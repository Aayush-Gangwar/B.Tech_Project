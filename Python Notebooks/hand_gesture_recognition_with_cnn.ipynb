{
  "cells": [
    {
      "cell_type": "code",
      "execution_count": null,
      "id": "3511a4d5",
      "metadata": {
        "_cell_guid": "b1076dfc-b9ad-4769-8c92-a6c4dae69d19",
        "_uuid": "8f2839f25d086af736a60e9eeb907d3b93b6e0e5",
        "execution": {
          "iopub.execute_input": "2023-09-14T12:57:53.476396Z",
          "iopub.status.busy": "2023-09-14T12:57:53.475974Z",
          "iopub.status.idle": "2023-09-14T12:58:04.916641Z",
          "shell.execute_reply": "2023-09-14T12:58:04.915364Z"
        },
        "papermill": {
          "duration": 11.453884,
          "end_time": "2023-09-14T12:58:04.919601",
          "exception": false,
          "start_time": "2023-09-14T12:57:53.465717",
          "status": "completed"
        },
        "scrolled": true,
        "tags": [],
        "id": "3511a4d5"
      },
      "outputs": [],
      "source": [
        "import numpy as np\n",
        "import pandas as pd\n",
        "import os\n",
        "import cv2\n",
        "import random\n",
        "import itertools\n",
        "import seaborn as sns\n",
        "import matplotlib.pyplot as plt\n",
        "from keras.models import Sequential\n",
        "from sklearn.metrics import f1_score\n",
        "from keras.optimizers import RMSprop,Adam\n",
        "from sklearn.metrics import confusion_matrix\n",
        "from keras.callbacks import ReduceLROnPlateau\n",
        "from keras.utils import to_categorical\n",
        "from sklearn.model_selection import train_test_split\n",
        "from keras.preprocessing.image import ImageDataGenerator\n",
        "from sklearn.preprocessing import LabelEncoder, OneHotEncoder\n",
        "from keras.layers import Dense, Dropout, Flatten, Conv2D, MaxPool2D"
      ]
    },
    {
      "cell_type": "code",
      "source": [
        "!pip install kaggle"
      ],
      "metadata": {
        "id": "oLzOiqWQmzxj"
      },
      "id": "oLzOiqWQmzxj",
      "execution_count": null,
      "outputs": []
    },
    {
      "cell_type": "code",
      "source": [
        "from google.colab import files\n",
        "uploaded = files.upload()"
      ],
      "metadata": {
        "id": "_7HApaWOnqng"
      },
      "id": "_7HApaWOnqng",
      "execution_count": null,
      "outputs": []
    },
    {
      "cell_type": "markdown",
      "source": [
        "importing dataset"
      ],
      "metadata": {
        "id": "f5TEYkMlPOAd"
      },
      "id": "f5TEYkMlPOAd"
    },
    {
      "cell_type": "code",
      "source": [
        "!mkdir -p ~/.kaggle\n",
        "!cp kaggle.json ~/.kaggle/\n",
        "!chmod 600 ~/.kaggle/kaggle.json\n",
        "\n",
        "!kaggle datasets download -d gti-upm/leapgestrecog"
      ],
      "metadata": {
        "id": "9RMMrfZanwgy"
      },
      "id": "9RMMrfZanwgy",
      "execution_count": null,
      "outputs": []
    },
    {
      "cell_type": "code",
      "source": [
        "!unzip leapgestrecog.zip"
      ],
      "metadata": {
        "id": "YlfsQuvnpxzc"
      },
      "id": "YlfsQuvnpxzc",
      "execution_count": null,
      "outputs": []
    },
    {
      "cell_type": "code",
      "execution_count": null,
      "id": "bfab4f65",
      "metadata": {
        "execution": {
          "iopub.execute_input": "2023-09-14T12:58:04.937411Z",
          "iopub.status.busy": "2023-09-14T12:58:04.936472Z",
          "iopub.status.idle": "2023-09-14T13:02:15.965736Z",
          "shell.execute_reply": "2023-09-14T13:02:15.964602Z"
        },
        "papermill": {
          "duration": 251.047405,
          "end_time": "2023-09-14T13:02:15.974751",
          "exception": false,
          "start_time": "2023-09-14T12:58:04.927346",
          "status": "completed"
        },
        "tags": [],
        "colab": {
          "base_uri": "https://localhost:8080/"
        },
        "id": "bfab4f65",
        "outputId": "c1c860fc-04d0-49cf-9494-351dc80fe637"
      },
      "outputs": [
        {
          "output_type": "stream",
          "name": "stdout",
          "text": [
            "Total samples: 20000\n"
          ]
        }
      ],
      "source": [
        "base_data_dir = \"/content/leapGestRecog\"\n",
        "gestures = [\"01_palm\", \"02_l\", \"03_fist\", \"04_fist_moved\", \"05_thumb\", \"06_index\", \"07_ok\", \"08_palm_moved\", \"09_c\", \"10_down\"]\n",
        "data = []\n",
        "image_size = (50, 50)\n",
        "\n",
        "for subject in range(10):\n",
        "    subject_data_dir = os.path.join(base_data_dir, f\"{subject:02d}\")\n",
        "    for gesture in gestures:\n",
        "        gesture_dir = os.path.join(subject_data_dir, gesture)\n",
        "        if os.path.exists(gesture_dir):\n",
        "            for filename in os.listdir(gesture_dir):\n",
        "                if filename.endswith(\".png\"):\n",
        "                    image_path = os.path.join(gesture_dir, filename)\n",
        "                    image = cv2.imread(image_path, cv2.IMREAD_GRAYSCALE)\n",
        "                    resized_image = cv2.resize(image, image_size)\n",
        "                    data.append({\"gesture\": gesture, \"image\": resized_image})\n",
        "\n",
        "total_data_count = len(data)\n",
        "print(f\"Total samples: {total_data_count}\")"
      ]
    },
    {
      "cell_type": "code",
      "execution_count": null,
      "id": "b3f55c1f",
      "metadata": {
        "execution": {
          "iopub.execute_input": "2023-09-14T13:02:15.995814Z",
          "iopub.status.busy": "2023-09-14T13:02:15.994750Z",
          "iopub.status.idle": "2023-09-14T13:02:16.543325Z",
          "shell.execute_reply": "2023-09-14T13:02:16.541776Z"
        },
        "papermill": {
          "duration": 0.563514,
          "end_time": "2023-09-14T13:02:16.546519",
          "exception": false,
          "start_time": "2023-09-14T13:02:15.983005",
          "status": "completed"
        },
        "tags": [],
        "colab": {
          "base_uri": "https://localhost:8080/",
          "height": 281
        },
        "id": "b3f55c1f",
        "outputId": "0d071230-374a-48fa-c6ff-b481c4048433"
      },
      "outputs": [
        {
          "output_type": "display_data",
          "data": {
            "text/plain": [
              "<Figure size 1200x800 with 5 Axes>"
            ],
            "image/png": "[encoded data removed]"
          },
          "metadata": {}
        }
      ],
      "source": [
        "num_samples_to_display = 5\n",
        "plt.figure(figsize=(12, 8))\n",
        "\n",
        "for i in range(num_samples_to_display):\n",
        "    random_index = random.randint(0, len(data) - 1)\n",
        "    sample = data[random_index]\n",
        "    gesture = sample['gesture']\n",
        "    image = sample['image']\n",
        "\n",
        "    plt.subplot(1, num_samples_to_display, i + 1)\n",
        "    plt.imshow(image, cmap='gray')\n",
        "    plt.title(gesture)\n",
        "    plt.axis('off')\n",
        "\n",
        "plt.tight_layout()\n",
        "plt.show()"
      ]
    },
    {
      "cell_type": "markdown",
      "source": [
        "Train, test data generation"
      ],
      "metadata": {
        "id": "jJjr-fYxPU45"
      },
      "id": "jJjr-fYxPU45"
    },
    {
      "cell_type": "code",
      "execution_count": null,
      "id": "493aac1c",
      "metadata": {
        "execution": {
          "iopub.execute_input": "2023-09-14T13:02:16.565407Z",
          "iopub.status.busy": "2023-09-14T13:02:16.564960Z",
          "iopub.status.idle": "2023-09-14T13:02:16.841395Z",
          "shell.execute_reply": "2023-09-14T13:02:16.839831Z"
        },
        "papermill": {
          "duration": 0.289458,
          "end_time": "2023-09-14T13:02:16.844403",
          "exception": false,
          "start_time": "2023-09-14T13:02:16.554945",
          "status": "completed"
        },
        "tags": [],
        "colab": {
          "base_uri": "https://localhost:8080/"
        },
        "id": "493aac1c",
        "outputId": "c489d44e-a933-4c19-a55d-5e9fcad02d3d"
      },
      "outputs": [
        {
          "output_type": "stream",
          "name": "stdout",
          "text": [
            "X_train shape: (20000, 50, 50, 1)\n",
            "Y_train shape: (20000,)\n"
          ]
        }
      ],
      "source": [
        "df = pd.DataFrame(data)\n",
        "X_train = np.array(df['image'].tolist())\n",
        "\n",
        "X_train = X_train.reshape(-1, 50, 50, 1)\n",
        "X_train = X_train / 255.0\n",
        "\n",
        "Y_train = df['gesture']\n",
        "\n",
        "print(\"X_train shape:\", X_train.shape)\n",
        "print(\"Y_train shape:\", Y_train.shape)"
      ]
    },
    {
      "cell_type": "code",
      "execution_count": null,
      "id": "b459228d",
      "metadata": {
        "execution": {
          "iopub.execute_input": "2023-09-14T13:02:16.863878Z",
          "iopub.status.busy": "2023-09-14T13:02:16.863407Z",
          "iopub.status.idle": "2023-09-14T13:02:17.076439Z",
          "shell.execute_reply": "2023-09-14T13:02:17.075253Z"
        },
        "papermill": {
          "duration": 0.226379,
          "end_time": "2023-09-14T13:02:17.079604",
          "exception": false,
          "start_time": "2023-09-14T13:02:16.853225",
          "status": "completed"
        },
        "tags": [],
        "id": "b459228d"
      },
      "outputs": [],
      "source": [
        "label_encoder = LabelEncoder()\n",
        "numerical_labels = label_encoder.fit_transform(Y_train)\n",
        "\n",
        "onehot_encoder = OneHotEncoder(sparse_output=False)\n",
        "onehot_labels = onehot_encoder.fit_transform(numerical_labels.reshape(-1, 1))\n",
        "\n",
        "X_train, X_val, onehot_labels_train, onehot_labels_val = train_test_split(X_train, onehot_labels, test_size=0.1, random_state=2)"
      ]
    },
    {
      "cell_type": "markdown",
      "source": [
        "#Model"
      ],
      "metadata": {
        "id": "k_RP3w1gPcLz"
      },
      "id": "k_RP3w1gPcLz"
    },
    {
      "cell_type": "code",
      "execution_count": null,
      "id": "0acbe9b9",
      "metadata": {
        "execution": {
          "iopub.execute_input": "2023-09-14T13:02:17.099437Z",
          "iopub.status.busy": "2023-09-14T13:02:17.098371Z",
          "iopub.status.idle": "2023-09-14T13:02:17.362417Z",
          "shell.execute_reply": "2023-09-14T13:02:17.361157Z"
        },
        "papermill": {
          "duration": 0.277342,
          "end_time": "2023-09-14T13:02:17.365615",
          "exception": false,
          "start_time": "2023-09-14T13:02:17.088273",
          "status": "completed"
        },
        "tags": [],
        "id": "0acbe9b9"
      },
      "outputs": [],
      "source": [
        "model = Sequential()\n",
        "model.add(Conv2D(filters = 8, kernel_size = (5,5), activation ='relu', input_shape = (50,50,1)))\n",
        "model.add(MaxPool2D(pool_size=(2,2)))\n",
        "model.add(Dropout(0.25))\n",
        "\n",
        "model.add(Conv2D(filters = 16, kernel_size = (3,3), activation ='relu'))\n",
        "model.add(MaxPool2D(pool_size=(2,2), strides=(2,2)))\n",
        "model.add(Dropout(0.25))\n",
        "\n",
        "model.add(Flatten())\n",
        "model.add(Dense(256, activation = \"relu\"))\n",
        "model.add(Dropout(0.5))\n",
        "model.add(Dense(10, activation = \"softmax\"))"
      ]
    },
    {
      "cell_type": "code",
      "execution_count": null,
      "id": "6ccfb802",
      "metadata": {
        "execution": {
          "iopub.execute_input": "2023-09-14T13:02:17.384926Z",
          "iopub.status.busy": "2023-09-14T13:02:17.384462Z",
          "iopub.status.idle": "2023-09-14T13:02:17.404789Z",
          "shell.execute_reply": "2023-09-14T13:02:17.403873Z"
        },
        "papermill": {
          "duration": 0.033359,
          "end_time": "2023-09-14T13:02:17.407508",
          "exception": false,
          "start_time": "2023-09-14T13:02:17.374149",
          "status": "completed"
        },
        "tags": [],
        "id": "6ccfb802"
      },
      "outputs": [],
      "source": [
        "optimizer = Adam(learning_rate=0.001, beta_1=0.9, beta_2=0.999)\n",
        "\n",
        "epochs = 10\n",
        "batch_size = 250\n",
        "\n",
        "model.compile(optimizer = optimizer , loss = \"categorical_crossentropy\", metrics=[\"accuracy\"])"
      ]
    },
    {
      "cell_type": "markdown",
      "source": [
        "Training"
      ],
      "metadata": {
        "id": "oEDy_UJ0PgXF"
      },
      "id": "oEDy_UJ0PgXF"
    },
    {
      "cell_type": "code",
      "execution_count": null,
      "id": "e5374755",
      "metadata": {
        "execution": {
          "iopub.execute_input": "2023-09-14T13:02:17.426587Z",
          "iopub.status.busy": "2023-09-14T13:02:17.425935Z",
          "iopub.status.idle": "2023-09-14T13:05:40.608551Z",
          "shell.execute_reply": "2023-09-14T13:05:40.607555Z"
        },
        "papermill": {
          "duration": 203.195234,
          "end_time": "2023-09-14T13:05:40.611265",
          "exception": false,
          "start_time": "2023-09-14T13:02:17.416031",
          "status": "completed"
        },
        "tags": [],
        "colab": {
          "base_uri": "https://localhost:8080/"
        },
        "id": "e5374755",
        "outputId": "b0213d2d-a49c-4abf-9303-400a7c05a693"
      },
      "outputs": [
        {
          "output_type": "stream",
          "name": "stdout",
          "text": [
            "Epoch 1/10\n",
            "72/72 [==============================] - 32s 425ms/step - loss: 1.3101 - accuracy: 0.5610 - val_loss: 0.4582 - val_accuracy: 0.8870\n",
            "Epoch 2/10\n",
            "72/72 [==============================] - 24s 330ms/step - loss: 0.4274 - accuracy: 0.8602 - val_loss: 0.1373 - val_accuracy: 0.9745\n",
            "Epoch 3/10\n",
            "72/72 [==============================] - 23s 324ms/step - loss: 0.2136 - accuracy: 0.9326 - val_loss: 0.0545 - val_accuracy: 0.9945\n",
            "Epoch 4/10\n",
            "72/72 [==============================] - 23s 310ms/step - loss: 0.1326 - accuracy: 0.9576 - val_loss: 0.0222 - val_accuracy: 0.9980\n",
            "Epoch 5/10\n",
            "72/72 [==============================] - 25s 343ms/step - loss: 0.0954 - accuracy: 0.9709 - val_loss: 0.0116 - val_accuracy: 0.9995\n",
            "Epoch 6/10\n",
            "72/72 [==============================] - 25s 349ms/step - loss: 0.0714 - accuracy: 0.9795 - val_loss: 0.0085 - val_accuracy: 0.9995\n",
            "Epoch 7/10\n",
            "72/72 [==============================] - 22s 303ms/step - loss: 0.0582 - accuracy: 0.9831 - val_loss: 0.0050 - val_accuracy: 0.9995\n",
            "Epoch 8/10\n",
            "72/72 [==============================] - 24s 340ms/step - loss: 0.0426 - accuracy: 0.9879 - val_loss: 0.0042 - val_accuracy: 0.9995\n",
            "Epoch 9/10\n",
            "72/72 [==============================] - 24s 329ms/step - loss: 0.0370 - accuracy: 0.9897 - val_loss: 0.0025 - val_accuracy: 0.9995\n",
            "Epoch 10/10\n",
            "72/72 [==============================] - 22s 310ms/step - loss: 0.0354 - accuracy: 0.9897 - val_loss: 0.0034 - val_accuracy: 0.9995\n"
          ]
        }
      ],
      "source": [
        "history = model.fit(X_train, onehot_labels_train, batch_size=batch_size,\n",
        "                    epochs=epochs, validation_data=(X_val, onehot_labels_val))"
      ]
    },
    {
      "cell_type": "code",
      "execution_count": null,
      "id": "4139f696",
      "metadata": {
        "execution": {
          "iopub.execute_input": "2023-09-14T13:05:40.763367Z",
          "iopub.status.busy": "2023-09-14T13:05:40.762527Z",
          "iopub.status.idle": "2023-09-14T13:05:41.023158Z",
          "shell.execute_reply": "2023-09-14T13:05:41.021691Z"
        },
        "papermill": {
          "duration": 0.339881,
          "end_time": "2023-09-14T13:05:41.025890",
          "exception": false,
          "start_time": "2023-09-14T13:05:40.686009",
          "status": "completed"
        },
        "tags": [],
        "id": "4139f696"
      },
      "outputs": [],
      "source": [
        "plt.plot(history.history['val_loss'], color='b', label=\"validation loss\")\n",
        "plt.title(\"Test Loss\")\n",
        "plt.xlabel(\"Number of Epochs\")\n",
        "plt.ylabel(\"Loss\")\n",
        "plt.legend()\n",
        "plt.show()"
      ]
    },
    {
      "cell_type": "markdown",
      "source": [
        "Prediction"
      ],
      "metadata": {
        "id": "R0pIp9MfPj4Y"
      },
      "id": "R0pIp9MfPj4Y"
    },
    {
      "cell_type": "code",
      "execution_count": null,
      "id": "6363876c",
      "metadata": {
        "execution": {
          "iopub.execute_input": "2023-09-14T13:05:41.177334Z",
          "iopub.status.busy": "2023-09-14T13:05:41.176809Z",
          "iopub.status.idle": "2023-09-14T13:05:42.173031Z",
          "shell.execute_reply": "2023-09-14T13:05:42.171768Z"
        },
        "papermill": {
          "duration": 1.07516,
          "end_time": "2023-09-14T13:05:42.175842",
          "exception": false,
          "start_time": "2023-09-14T13:05:41.100682",
          "status": "completed"
        },
        "tags": [],
        "colab": {
          "base_uri": "https://localhost:8080/"
        },
        "id": "6363876c",
        "outputId": "8a8d1d7b-fa27-4530-b678-aa07a0b34cea"
      },
      "outputs": [
        {
          "output_type": "stream",
          "name": "stdout",
          "text": [
            "63/63 [==============================] - 1s 22ms/step\n"
          ]
        }
      ],
      "source": [
        "Y_pred = model.predict(X_val)\n",
        "Y_pred_classes = np.argmax(Y_pred,axis = 1)\n",
        "Y_true = np.argmax(onehot_labels_val ,axis = 1)"
      ]
    },
    {
      "cell_type": "code",
      "execution_count": null,
      "id": "bf2967b3",
      "metadata": {
        "execution": {
          "iopub.execute_input": "2023-09-14T13:05:42.332291Z",
          "iopub.status.busy": "2023-09-14T13:05:42.330872Z",
          "iopub.status.idle": "2023-09-14T13:05:42.341125Z",
          "shell.execute_reply": "2023-09-14T13:05:42.339934Z"
        },
        "papermill": {
          "duration": 0.090863,
          "end_time": "2023-09-14T13:05:42.343537",
          "exception": false,
          "start_time": "2023-09-14T13:05:42.252674",
          "status": "completed"
        },
        "tags": [],
        "colab": {
          "base_uri": "https://localhost:8080/"
        },
        "id": "bf2967b3",
        "outputId": "ddbbdb5f-df0c-4ae8-f92a-194178bc1d3a"
      },
      "outputs": [
        {
          "output_type": "stream",
          "name": "stdout",
          "text": [
            "F1 score: 0.9995\n"
          ]
        }
      ],
      "source": [
        "# f1-score\n",
        "f1 = f1_score(Y_true, Y_pred_classes, average='weighted')\n",
        "print(f\"F1 score: {f1:.4f}\")"
      ]
    },
    {
      "cell_type": "code",
      "execution_count": null,
      "id": "6feaccfd",
      "metadata": {
        "execution": {
          "iopub.execute_input": "2023-09-14T13:05:42.498632Z",
          "iopub.status.busy": "2023-09-14T13:05:42.497593Z",
          "iopub.status.idle": "2023-09-14T13:05:43.103142Z",
          "shell.execute_reply": "2023-09-14T13:05:43.101900Z"
        },
        "papermill": {
          "duration": 0.685602,
          "end_time": "2023-09-14T13:05:43.105524",
          "exception": false,
          "start_time": "2023-09-14T13:05:42.419922",
          "status": "completed"
        },
        "tags": [],
        "id": "6feaccfd"
      },
      "outputs": [],
      "source": [
        "# plotting\n",
        "confusion_mtx = confusion_matrix(Y_true, Y_pred_classes)\n",
        "f,ax = plt.subplots(figsize=(7, 6))\n",
        "sns.heatmap(confusion_mtx, annot=True, linewidths=0.01,cmap=\"viridis\",linecolor=\"gray\", fmt= '.1f',ax=ax)\n",
        "plt.xlabel(\"Predicted Label\")\n",
        "plt.ylabel(\"True Label\")\n",
        "plt.title(\"Confusion Matrix\")\n",
        "plt.show()"
      ]
    },
    {
      "cell_type": "markdown",
      "source": [
        "prediction results"
      ],
      "metadata": {
        "id": "aBw6zk7B0eCI"
      },
      "id": "aBw6zk7B0eCI"
    },
    {
      "cell_type": "code",
      "execution_count": null,
      "id": "1bb3fc0d",
      "metadata": {
        "execution": {
          "iopub.execute_input": "2023-09-14T13:05:43.263358Z",
          "iopub.status.busy": "2023-09-14T13:05:43.261958Z",
          "iopub.status.idle": "2023-09-14T13:05:44.946668Z",
          "shell.execute_reply": "2023-09-14T13:05:44.945180Z"
        },
        "papermill": {
          "duration": 1.767945,
          "end_time": "2023-09-14T13:05:44.950711",
          "exception": false,
          "start_time": "2023-09-14T13:05:43.182766",
          "status": "completed"
        },
        "tags": [],
        "id": "1bb3fc0d"
      },
      "outputs": [],
      "source": [
        "label_encoder = LabelEncoder()\n",
        "label_encoder.fit(Y_true)\n",
        "\n",
        "inverted_true = label_encoder.inverse_transform(Y_true)\n",
        "inverted_pred = label_encoder.inverse_transform(Y_pred_classes)\n",
        "\n",
        "# encoding\n",
        "label_map = {0: 'Palm', 1: 'L', 2: 'Fist', 3: 'Fist Moved', 4: 'Thumb', 5: 'Index', 6: 'OK', 7: 'Palm Moved', 8: 'C', 9: 'Down'}\n",
        "\n",
        "inverted_true_names = [label_map.get(label, label) for label in inverted_true]\n",
        "inverted_pred_names = [label_map.get(label, label) for label in inverted_pred]\n",
        "\n",
        "# taking 10 random images\n",
        "sample_indices = np.random.choice(len(X_val), size=10, replace=False)\n",
        "\n",
        "for idx in sample_indices:\n",
        "    plt.figure(figsize=(3, 2))\n",
        "\n",
        "    plt.imshow(X_val[idx].reshape(50, 50), cmap='gray')\n",
        "    plt.title(f\"Prediction: {inverted_pred_names[idx]}, Truth: {inverted_true_names[idx]}\")\n",
        "    plt.axis('off')\n",
        "\n",
        "    plt.tight_layout()\n",
        "    plt.show()"
      ]
    },
    {
      "cell_type": "code",
      "source": [
        "# flattening image\n",
        "def flatten(image, h, w, d):\n",
        "  flattenedImage = []\n",
        "  for k in range(0, d):\n",
        "    for i in range(0, h):\n",
        "      for j in range(0, w):\n",
        "        flattenedImage.append(image[i][j])\n",
        "  return flattenedImage"
      ],
      "metadata": {
        "id": "Kwu16sjct8jC"
      },
      "id": "Kwu16sjct8jC",
      "execution_count": null,
      "outputs": []
    },
    {
      "cell_type": "markdown",
      "source": [
        "taking random samples for prediction"
      ],
      "metadata": {
        "id": "bt1N55TA0iXw"
      },
      "id": "bt1N55TA0iXw"
    },
    {
      "cell_type": "code",
      "source": [
        "random_indices = np.random.choice(len(X_val), size=100, replace=False)\n",
        "test_images = []\n",
        "true_labels = []\n",
        "pred_labels = []\n",
        "tdata = []\n",
        "for idx in random_indices:\n",
        "    tdata.append(X_val[idx])\n",
        "    reshaped_image = X_val[idx].reshape(50,50)\n",
        "    test_images.append(flatten(reshaped_image, 50, 50, 1))\n",
        "    true_labels.append(Y_true[idx])\n",
        "    pred_labels.append(Y_pred_classes[idx])\n",
        "\n",
        "flattened_test_images = [item for sublist in test_images for item in sublist]"
      ],
      "metadata": {
        "id": "DZovKu1xtAeF"
      },
      "id": "DZovKu1xtAeF",
      "execution_count": null,
      "outputs": []
    },
    {
      "cell_type": "code",
      "source": [
        "# accuracy on random samples\n",
        "t = 0\n",
        "f = 0\n",
        "for i in range(0, 100):\n",
        "  if(true_labels[i] == pred_labels[i]):\n",
        "    t += 1\n",
        "  else:\n",
        "    f += 1\n",
        "print(\"Accuracy:\",t)"
      ],
      "metadata": {
        "colab": {
          "base_uri": "https://localhost:8080/"
        },
        "id": "yKZaau-Uzmdw",
        "outputId": "88bf583c-0f20-487f-c210-ba6e9c341878"
      },
      "id": "yKZaau-Uzmdw",
      "execution_count": null,
      "outputs": [
        {
          "output_type": "stream",
          "name": "stdout",
          "text": [
            "Accuracy: 100\n"
          ]
        }
      ]
    },
    {
      "cell_type": "code",
      "source": [
        "# saving files\n",
        "with open('test_images.txt', 'w') as f:\n",
        "  f.write(str(flattened_test_images))\n",
        "with open('true_labels.txt', 'w') as f:\n",
        "  f.write(str(true_labels))"
      ],
      "metadata": {
        "id": "oGCWaAqMyZo3"
      },
      "id": "oGCWaAqMyZo3",
      "execution_count": null,
      "outputs": []
    },
    {
      "cell_type": "markdown",
      "source": [
        "Time calculation"
      ],
      "metadata": {
        "id": "hvWdhe-1QEaG"
      },
      "id": "hvWdhe-1QEaG"
    },
    {
      "cell_type": "code",
      "source": [
        "import time\n",
        "import numpy as np\n",
        "\n",
        "# Measuring inference time\n",
        "start_time = time.time()\n",
        "predictions = model.predict(np.array(tdata))\n",
        "end_time = time.time()\n",
        "inference_time = []\n",
        "inference_time.append(end_time - start_time)\n",
        "print(f\"Inference time: {inference_time[0]} seconds\")"
      ],
      "metadata": {
        "colab": {
          "base_uri": "https://localhost:8080/"
        },
        "id": "aB_L85n24M1A",
        "outputId": "457d0d7f-666e-4492-9e24-50ca9228e529"
      },
      "id": "aB_L85n24M1A",
      "execution_count": null,
      "outputs": [
        {
          "output_type": "stream",
          "name": "stdout",
          "text": [
            "4/4 [==============================] - 0s 24ms/step\n",
            "Inference time: 0.3092629909515381 seconds\n"
          ]
        }
      ]
    },
    {
      "cell_type": "code",
      "source": [
        "# saving model\n",
        "import pickle\n",
        "\n",
        "with open('handgest.pkl', 'wb') as file:\n",
        "    pickle.dump(model, file)"
      ],
      "metadata": {
        "id": "LEX1Rcn12jXz"
      },
      "id": "LEX1Rcn12jXz",
      "execution_count": null,
      "outputs": []
    },
    {
      "cell_type": "code",
      "source": [
        "# loading model\n",
        "import pickle\n",
        "from keras.models import load_model\n",
        "\n",
        "model_pkl_file_path = 'handgest.pkl'\n",
        "\n",
        "with open(model_pkl_file_path, 'rb') as file:\n",
        "    model = pickle.load(file)"
      ],
      "metadata": {
        "id": "vVt6LMLZFMzJ"
      },
      "id": "vVt6LMLZFMzJ",
      "execution_count": null,
      "outputs": []
    },
    {
      "cell_type": "markdown",
      "source": [
        "Model parameters"
      ],
      "metadata": {
        "id": "Ak03GITnQTl5"
      },
      "id": "Ak03GITnQTl5"
    },
    {
      "cell_type": "code",
      "source": [
        "all_weights = []\n",
        "for layer in model.layers:\n",
        "    if hasattr(layer, 'get_weights'):\n",
        "        weights = layer.get_weights()\n",
        "        all_weights.append(weights)\n",
        "\n",
        "# Print all weights\n",
        "for i, weights in enumerate(all_weights):\n",
        "    print(f\"Layer {i + 1} - {model.layers[i].name}\")\n",
        "    for j, w in enumerate(weights):\n",
        "        print(f\"   Weights {j + 1}: {w.shape}\")"
      ],
      "metadata": {
        "colab": {
          "base_uri": "https://localhost:8080/"
        },
        "id": "ZVdbPf7LtcJe",
        "outputId": "a8d353c2-d579-487a-93ab-5ede9d6f3ece"
      },
      "id": "ZVdbPf7LtcJe",
      "execution_count": null,
      "outputs": [
        {
          "output_type": "stream",
          "name": "stdout",
          "text": [
            "Layer 1 - conv2d\n",
            "   Weights 1: (5, 5, 1, 8)\n",
            "   Weights 2: (8,)\n",
            "Layer 2 - max_pooling2d\n",
            "Layer 3 - dropout\n",
            "Layer 4 - conv2d_1\n",
            "   Weights 1: (3, 3, 8, 16)\n",
            "   Weights 2: (16,)\n",
            "Layer 5 - max_pooling2d_1\n",
            "Layer 6 - dropout_1\n",
            "Layer 7 - flatten\n",
            "Layer 8 - dense\n",
            "   Weights 1: (1600, 256)\n",
            "   Weights 2: (256,)\n",
            "Layer 9 - dropout_2\n",
            "Layer 10 - dense_1\n",
            "   Weights 1: (256, 10)\n",
            "   Weights 2: (10,)\n"
          ]
        }
      ]
    },
    {
      "cell_type": "markdown",
      "source": [
        "Extracting weights, biases of each layer"
      ],
      "metadata": {
        "id": "Kod86B9-QbK9"
      },
      "id": "Kod86B9-QbK9"
    },
    {
      "cell_type": "code",
      "source": [
        "conv1_weights, conv1_biases = model.layers[0].get_weights()\n",
        "conv2_weights, conv2_biases = model.layers[3].get_weights()\n",
        "dense1_weights, dense1_biases = model.layers[7].get_weights()\n",
        "dense2_weights, dense2_biases = model.layers[9].get_weights()"
      ],
      "metadata": {
        "id": "mXXkrhGftfwm"
      },
      "id": "mXXkrhGftfwm",
      "execution_count": null,
      "outputs": []
    },
    {
      "cell_type": "code",
      "source": [
        "# Flatten the weight matrices and convert to lists\n",
        "conv1_weights_flattened_list = conv1_weights.flatten().tolist()\n",
        "conv2_weights_flattened_list = conv2_weights.flatten().tolist()\n",
        "dense1_weights_flattened_list = dense1_weights.flatten().tolist()\n",
        "dense2_weights_flattened_list = dense2_weights.flatten().tolist()\n",
        "\n",
        "# Convert biases to lists\n",
        "conv1_biases_list = conv1_biases.tolist()\n",
        "conv2_biases_list = conv2_biases.tolist()\n",
        "dense1_biases_list = dense1_biases.tolist()\n",
        "dense2_biases_list = dense2_biases.tolist()"
      ],
      "metadata": {
        "id": "k4oa5XQWyUZA"
      },
      "id": "k4oa5XQWyUZA",
      "execution_count": null,
      "outputs": []
    },
    {
      "cell_type": "code",
      "source": [
        "print((conv2_weights))"
      ],
      "metadata": {
        "id": "kJLJMAEJzDb4"
      },
      "id": "kJLJMAEJzDb4",
      "execution_count": null,
      "outputs": []
    },
    {
      "cell_type": "markdown",
      "source": [
        "Quantization"
      ],
      "metadata": {
        "id": "Quy3VGwtQ6P6"
      },
      "id": "Quy3VGwtQ6P6"
    },
    {
      "cell_type": "code",
      "source": [
        "import torch\n",
        "\n",
        "def absmax_quantize_list(weights_list):\n",
        "    X = torch.tensor(weights_list, dtype=torch.float32)\n",
        "    scale = 127 / torch.max(torch.abs(X))\n",
        "\n",
        "    # Quantize\n",
        "    X_quant = (scale * X).round()\n",
        "\n",
        "    # Dequantize\n",
        "    X_dequant = X_quant / scale\n",
        "\n",
        "    quantized_list = X_quant.to(torch.int8).tolist()\n",
        "    return quantized_list, X_dequant.tolist()"
      ],
      "metadata": {
        "id": "SIpFAHlQzuKw"
      },
      "id": "SIpFAHlQzuKw",
      "execution_count": null,
      "outputs": []
    },
    {
      "cell_type": "code",
      "source": [
        "new_conv_weights = []\n",
        "for j in range(0, 8):\n",
        "  for i in range(0, 200, 8):\n",
        "    new_conv_weights.append(conv1_weights_flattened_list[j+i])"
      ],
      "metadata": {
        "id": "0uuRGMlMyuu_"
      },
      "id": "0uuRGMlMyuu_",
      "execution_count": null,
      "outputs": []
    },
    {
      "cell_type": "markdown",
      "source": [
        "Flattening 4D convulation weights"
      ],
      "metadata": {
        "id": "QR0Yec1WbmpW"
      },
      "id": "QR0Yec1WbmpW"
    },
    {
      "cell_type": "code",
      "source": [
        "new_conv_weights = []\n",
        "for num_fil in range(0,16):\n",
        "  for dep in range(0,8):\n",
        "    for row in range(0,3):\n",
        "      for col in range(0,3):\n",
        "        new_conv_weights.append(conv2_weights[row][col][dep][num_fil])"
      ],
      "metadata": {
        "id": "T-OLmPvadISr"
      },
      "id": "T-OLmPvadISr",
      "execution_count": null,
      "outputs": []
    },
    {
      "cell_type": "code",
      "source": [
        "print(len(conv2_weights_flattened_list))"
      ],
      "metadata": {
        "colab": {
          "base_uri": "https://localhost:8080/"
        },
        "id": "LpBIqbTCdqhh",
        "outputId": "ea89fde2-7496-4e09-91c1-666de6d5d1e1"
      },
      "id": "LpBIqbTCdqhh",
      "execution_count": null,
      "outputs": [
        {
          "output_type": "stream",
          "name": "stdout",
          "text": [
            "1152\n"
          ]
        }
      ]
    },
    {
      "cell_type": "code",
      "source": [
        "weights_list = new_conv_weights\n",
        "print(len(weights_list))\n",
        "\n",
        "quantized_weights, dequantized_weights = absmax_quantize_list(weights_list)\n",
        "\n",
        "print(\"\\nAbsmax quantized weights:\")\n",
        "print(len(quantized_weights))\n",
        "\n",
        "with open('quantized_conv2_weights.txt', 'w') as f:\n",
        "  f.write(str(quantized_weights))"
      ],
      "metadata": {
        "colab": {
          "base_uri": "https://localhost:8080/"
        },
        "id": "ubQIJf-Yzqh4",
        "outputId": "64eecd80-b0be-4bee-e8d9-95642acc480a"
      },
      "id": "ubQIJf-Yzqh4",
      "execution_count": null,
      "outputs": [
        {
          "output_type": "stream",
          "name": "stdout",
          "text": [
            "1152\n",
            "\n",
            "Absmax quantized weights:\n",
            "1152\n"
          ]
        }
      ]
    }
  ],
  "metadata": {
    "kernelspec": {
      "display_name": "Python 3",
      "language": "python",
      "name": "python3"
    },
    "language_info": {
      "codemirror_mode": {
        "name": "ipython",
        "version": 3
      },
      "file_extension": ".py",
      "mimetype": "text/x-python",
      "name": "python",
      "nbconvert_exporter": "python",
      "pygments_lexer": "ipython3",
      "version": "3.10.12"
    },
    "papermill": {
      "default_parameters": {},
      "duration": 487.26762,
      "end_time": "2023-09-14T13:05:47.888625",
      "environment_variables": {},
      "exception": null,
      "input_path": "__notebook__.ipynb",
      "output_path": "__notebook__.ipynb",
      "parameters": {},
      "start_time": "2023-09-14T12:57:40.621005",
      "version": "2.4.0"
    },
    "colab": {
      "provenance": []
    }
  },
  "nbformat": 4,
  "nbformat_minor": 5
}