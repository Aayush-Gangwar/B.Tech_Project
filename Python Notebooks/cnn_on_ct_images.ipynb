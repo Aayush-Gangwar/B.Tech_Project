{
  "cells": [
    {
      "metadata": {
        "_cell_guid": "181eb735-c97b-c0f2-b8c1-b102f750f22b",
        "_active": false,
        "id": "uqosiUdrjA1M"
      },
      "cell_type": "markdown",
      "source": [
        "importing libraries"
      ]
    },
    {
      "metadata": {
        "_cell_guid": "de20a6d3-24c9-5cc9-5404-30e76357b2ec",
        "_active": false,
        "trusted": true,
        "id": "ScGP7Q-PjA1T"
      },
      "cell_type": "code",
      "source": [
        "import numpy as np\n",
        "import matplotlib.pyplot as plt\n",
        "import seaborn as sns\n",
        "import pandas as pd\n",
        "from glob import glob\n",
        "import re\n",
        "from skimage.io import imread\n",
        "\n",
        "import keras"
      ],
      "execution_count": null,
      "outputs": []
    },
    {
      "cell_type": "markdown",
      "source": [
        "dataset generation"
      ],
      "metadata": {
        "id": "0E8ZLzoUTTXP"
      }
    },
    {
      "metadata": {
        "trusted": true,
        "colab": {
          "base_uri": "https://localhost:8080/",
          "height": 215
        },
        "id": "mJFtrhadjA1Y",
        "outputId": "91a2efac-d102-41d5-c959-850946603853"
      },
      "cell_type": "code",
      "source": [
        "overview_df = pd.read_csv('/content/overview.csv')\n",
        "overview_df.columns = ['idx']+list(overview_df.columns[1:])\n",
        "overview_df['Contrast'] = overview_df['Contrast'].map(lambda x: 'Contrast' if x else 'No Contrast')\n",
        "overview_df.sample(3)"
      ],
      "execution_count": null,
      "outputs": [
        {
          "output_type": "execute_result",
          "data": {
            "text/plain": [
              "    idx  Age     Contrast ContrastTag  \\\n",
              "67   67   60  No Contrast        NONE   \n",
              "63   63   73  No Contrast        NONE   \n",
              "83   83   82  No Contrast        NONE   \n",
              "\n",
              "                                       raw_input_path  id  \\\n",
              "67  ../data/50_50_dicom_cases\\No contrast\\000001 (...  67   \n",
              "63  ../data/50_50_dicom_cases\\No contrast\\000001 (...  63   \n",
              "83  ../data/50_50_dicom_cases\\No contrast\\000001 (...  83   \n",
              "\n",
              "                             tiff_name                          dicom_name  \n",
              "67  ID_0067_AGE_0060_CONTRAST_0_CT.tif  ID_0067_AGE_0060_CONTRAST_0_CT.dcm  \n",
              "63  ID_0063_AGE_0073_CONTRAST_0_CT.tif  ID_0063_AGE_0073_CONTRAST_0_CT.dcm  \n",
              "83  ID_0083_AGE_0082_CONTRAST_0_CT.tif  ID_0083_AGE_0082_CONTRAST_0_CT.dcm  "
            ],
            "text/html": [
              "\n",
              "  <div id=\"df-aa4a2780-b297-484e-9f38-eca5226979fc\" class=\"colab-df-container\">\n",
              "    <div>\n",
              "<style scoped>\n",
              "    .dataframe tbody tr th:only-of-type {\n",
              "        vertical-align: middle;\n",
              "    }\n",
              "\n",
              "    .dataframe tbody tr th {\n",
              "        vertical-align: top;\n",
              "    }\n",
              "\n",
              "    .dataframe thead th {\n",
              "        text-align: right;\n",
              "    }\n",
              "</style>\n",
              "<table border=\"1\" class=\"dataframe\">\n",
              "  <thead>\n",
              "    <tr style=\"text-align: right;\">\n",
              "      <th></th>\n",
              "      <th>idx</th>\n",
              "      <th>Age</th>\n",
              "      <th>Contrast</th>\n",
              "      <th>ContrastTag</th>\n",
              "      <th>raw_input_path</th>\n",
              "      <th>id</th>\n",
              "      <th>tiff_name</th>\n",
              "      <th>dicom_name</th>\n",
              "    </tr>\n",
              "  </thead>\n",
              "  <tbody>\n",
              "    <tr>\n",
              "      <th>67</th>\n",
              "      <td>67</td>\n",
              "      <td>60</td>\n",
              "      <td>No Contrast</td>\n",
              "      <td>NONE</td>\n",
              "      <td>../data/50_50_dicom_cases\\No contrast\\000001 (...</td>\n",
              "      <td>67</td>\n",
              "      <td>ID_0067_AGE_0060_CONTRAST_0_CT.tif</td>\n",
              "      <td>ID_0067_AGE_0060_CONTRAST_0_CT.dcm</td>\n",
              "    </tr>\n",
              "    <tr>\n",
              "      <th>63</th>\n",
              "      <td>63</td>\n",
              "      <td>73</td>\n",
              "      <td>No Contrast</td>\n",
              "      <td>NONE</td>\n",
              "      <td>../data/50_50_dicom_cases\\No contrast\\000001 (...</td>\n",
              "      <td>63</td>\n",
              "      <td>ID_0063_AGE_0073_CONTRAST_0_CT.tif</td>\n",
              "      <td>ID_0063_AGE_0073_CONTRAST_0_CT.dcm</td>\n",
              "    </tr>\n",
              "    <tr>\n",
              "      <th>83</th>\n",
              "      <td>83</td>\n",
              "      <td>82</td>\n",
              "      <td>No Contrast</td>\n",
              "      <td>NONE</td>\n",
              "      <td>../data/50_50_dicom_cases\\No contrast\\000001 (...</td>\n",
              "      <td>83</td>\n",
              "      <td>ID_0083_AGE_0082_CONTRAST_0_CT.tif</td>\n",
              "      <td>ID_0083_AGE_0082_CONTRAST_0_CT.dcm</td>\n",
              "    </tr>\n",
              "  </tbody>\n",
              "</table>\n",
              "</div>\n",
              "    <div class=\"colab-df-buttons\">\n",
              "\n",
              "  <div class=\"colab-df-container\">\n",
              "    <button class=\"colab-df-convert\" onclick=\"convertToInteractive('df-aa4a2780-b297-484e-9f38-eca5226979fc')\"\n",
              "            title=\"Convert this dataframe to an interactive table.\"\n",
              "            style=\"display:none;\">\n",
              "\n",
              "  <svg xmlns=\"http://www.w3.org/2000/svg\" height=\"24px\" viewBox=\"0 -960 960 960\">\n",
              "    <path d=\"M120-120v-720h720v720H120Zm60-500h600v-160H180v160Zm220 220h160v-160H400v160Zm0 220h160v-160H400v160ZM180-400h160v-160H180v160Zm440 0h160v-160H620v160ZM180-180h160v-160H180v160Zm440 0h160v-160H620v160Z\"/>\n",
              "  </svg>\n",
              "    </button>\n",
              "\n",
              "  <style>\n",
              "    .colab-df-container {\n",
              "      display:flex;\n",
              "      gap: 12px;\n",
              "    }\n",
              "\n",
              "    .colab-df-convert {\n",
              "      background-color: #E8F0FE;\n",
              "      border: none;\n",
              "      border-radius: 50%;\n",
              "      cursor: pointer;\n",
              "      display: none;\n",
              "      fill: #1967D2;\n",
              "      height: 32px;\n",
              "      padding: 0 0 0 0;\n",
              "      width: 32px;\n",
              "    }\n",
              "\n",
              "    .colab-df-convert:hover {\n",
              "      background-color: #E2EBFA;\n",
              "      box-shadow: 0px 1px 2px rgba(60, 64, 67, 0.3), 0px 1px 3px 1px rgba(60, 64, 67, 0.15);\n",
              "      fill: #174EA6;\n",
              "    }\n",
              "\n",
              "    .colab-df-buttons div {\n",
              "      margin-bottom: 4px;\n",
              "    }\n",
              "\n",
              "    [theme=dark] .colab-df-convert {\n",
              "      background-color: #3B4455;\n",
              "      fill: #D2E3FC;\n",
              "    }\n",
              "\n",
              "    [theme=dark] .colab-df-convert:hover {\n",
              "      background-color: #434B5C;\n",
              "      box-shadow: 0px 1px 3px 1px rgba(0, 0, 0, 0.15);\n",
              "      filter: drop-shadow(0px 1px 2px rgba(0, 0, 0, 0.3));\n",
              "      fill: #FFFFFF;\n",
              "    }\n",
              "  </style>\n",
              "\n",
              "    <script>\n",
              "      const buttonEl =\n",
              "        document.querySelector('#df-aa4a2780-b297-484e-9f38-eca5226979fc button.colab-df-convert');\n",
              "      buttonEl.style.display =\n",
              "        google.colab.kernel.accessAllowed ? 'block' : 'none';\n",
              "\n",
              "      async function convertToInteractive(key) {\n",
              "        const element = document.querySelector('#df-aa4a2780-b297-484e-9f38-eca5226979fc');\n",
              "        const dataTable =\n",
              "          await google.colab.kernel.invokeFunction('convertToInteractive',\n",
              "                                                    [key], {});\n",
              "        if (!dataTable) return;\n",
              "\n",
              "        const docLinkHtml = 'Like what you see? Visit the ' +\n",
              "          '<a target=\"_blank\" href=https://colab.research.google.com/notebooks/data_table.ipynb>data table notebook</a>'\n",
              "          + ' to learn more about interactive tables.';\n",
              "        element.innerHTML = '';\n",
              "        dataTable['output_type'] = 'display_data';\n",
              "        await google.colab.output.renderOutput(dataTable, element);\n",
              "        const docLink = document.createElement('div');\n",
              "        docLink.innerHTML = docLinkHtml;\n",
              "        element.appendChild(docLink);\n",
              "      }\n",
              "    </script>\n",
              "  </div>\n",
              "\n",
              "\n",
              "<div id=\"df-3e41c360-185a-4e91-a168-41fd07246bd1\">\n",
              "  <button class=\"colab-df-quickchart\" onclick=\"quickchart('df-3e41c360-185a-4e91-a168-41fd07246bd1')\"\n",
              "            title=\"Suggest charts\"\n",
              "            style=\"display:none;\">\n",
              "\n",
              "<svg xmlns=\"http://www.w3.org/2000/svg\" height=\"24px\"viewBox=\"0 0 24 24\"\n",
              "     width=\"24px\">\n",
              "    <g>\n",
              "        <path d=\"M19 3H5c-1.1 0-2 .9-2 2v14c0 1.1.9 2 2 2h14c1.1 0 2-.9 2-2V5c0-1.1-.9-2-2-2zM9 17H7v-7h2v7zm4 0h-2V7h2v10zm4 0h-2v-4h2v4z\"/>\n",
              "    </g>\n",
              "</svg>\n",
              "  </button>\n",
              "\n",
              "<style>\n",
              "  .colab-df-quickchart {\n",
              "      --bg-color: #E8F0FE;\n",
              "      --fill-color: #1967D2;\n",
              "      --hover-bg-color: #E2EBFA;\n",
              "      --hover-fill-color: #174EA6;\n",
              "      --disabled-fill-color: #AAA;\n",
              "      --disabled-bg-color: #DDD;\n",
              "  }\n",
              "\n",
              "  [theme=dark] .colab-df-quickchart {\n",
              "      --bg-color: #3B4455;\n",
              "      --fill-color: #D2E3FC;\n",
              "      --hover-bg-color: #434B5C;\n",
              "      --hover-fill-color: #FFFFFF;\n",
              "      --disabled-bg-color: #3B4455;\n",
              "      --disabled-fill-color: #666;\n",
              "  }\n",
              "\n",
              "  .colab-df-quickchart {\n",
              "    background-color: var(--bg-color);\n",
              "    border: none;\n",
              "    border-radius: 50%;\n",
              "    cursor: pointer;\n",
              "    display: none;\n",
              "    fill: var(--fill-color);\n",
              "    height: 32px;\n",
              "    padding: 0;\n",
              "    width: 32px;\n",
              "  }\n",
              "\n",
              "  .colab-df-quickchart:hover {\n",
              "    background-color: var(--hover-bg-color);\n",
              "    box-shadow: 0 1px 2px rgba(60, 64, 67, 0.3), 0 1px 3px 1px rgba(60, 64, 67, 0.15);\n",
              "    fill: var(--button-hover-fill-color);\n",
              "  }\n",
              "\n",
              "  .colab-df-quickchart-complete:disabled,\n",
              "  .colab-df-quickchart-complete:disabled:hover {\n",
              "    background-color: var(--disabled-bg-color);\n",
              "    fill: var(--disabled-fill-color);\n",
              "    box-shadow: none;\n",
              "  }\n",
              "\n",
              "  .colab-df-spinner {\n",
              "    border: 2px solid var(--fill-color);\n",
              "    border-color: transparent;\n",
              "    border-bottom-color: var(--fill-color);\n",
              "    animation:\n",
              "      spin 1s steps(1) infinite;\n",
              "  }\n",
              "\n",
              "  @keyframes spin {\n",
              "    0% {\n",
              "      border-color: transparent;\n",
              "      border-bottom-color: var(--fill-color);\n",
              "      border-left-color: var(--fill-color);\n",
              "    }\n",
              "    20% {\n",
              "      border-color: transparent;\n",
              "      border-left-color: var(--fill-color);\n",
              "      border-top-color: var(--fill-color);\n",
              "    }\n",
              "    30% {\n",
              "      border-color: transparent;\n",
              "      border-left-color: var(--fill-color);\n",
              "      border-top-color: var(--fill-color);\n",
              "      border-right-color: var(--fill-color);\n",
              "    }\n",
              "    40% {\n",
              "      border-color: transparent;\n",
              "      border-right-color: var(--fill-color);\n",
              "      border-top-color: var(--fill-color);\n",
              "    }\n",
              "    60% {\n",
              "      border-color: transparent;\n",
              "      border-right-color: var(--fill-color);\n",
              "    }\n",
              "    80% {\n",
              "      border-color: transparent;\n",
              "      border-right-color: var(--fill-color);\n",
              "      border-bottom-color: var(--fill-color);\n",
              "    }\n",
              "    90% {\n",
              "      border-color: transparent;\n",
              "      border-bottom-color: var(--fill-color);\n",
              "    }\n",
              "  }\n",
              "</style>\n",
              "\n",
              "  <script>\n",
              "    async function quickchart(key) {\n",
              "      const quickchartButtonEl =\n",
              "        document.querySelector('#' + key + ' button');\n",
              "      quickchartButtonEl.disabled = true;  // To prevent multiple clicks.\n",
              "      quickchartButtonEl.classList.add('colab-df-spinner');\n",
              "      try {\n",
              "        const charts = await google.colab.kernel.invokeFunction(\n",
              "            'suggestCharts', [key], {});\n",
              "      } catch (error) {\n",
              "        console.error('Error during call to suggestCharts:', error);\n",
              "      }\n",
              "      quickchartButtonEl.classList.remove('colab-df-spinner');\n",
              "      quickchartButtonEl.classList.add('colab-df-quickchart-complete');\n",
              "    }\n",
              "    (() => {\n",
              "      let quickchartButtonEl =\n",
              "        document.querySelector('#df-3e41c360-185a-4e91-a168-41fd07246bd1 button');\n",
              "      quickchartButtonEl.style.display =\n",
              "        google.colab.kernel.accessAllowed ? 'block' : 'none';\n",
              "    })();\n",
              "  </script>\n",
              "</div>\n",
              "    </div>\n",
              "  </div>\n"
            ]
          },
          "metadata": {},
          "execution_count": 9
        }
      ]
    },
    {
      "metadata": {
        "trusted": true,
        "id": "DGlNiYFZjA1f"
      },
      "cell_type": "code",
      "source": [
        "import zipfile\n",
        "extracted_dir_path = 'kaggle/input'\n",
        "!mkdir -p extracted_dir_path\n",
        "zip_file_path = '/content/archive.zip'\n",
        "with zipfile.ZipFile(zip_file_path, 'r') as zip_ref:\n",
        "    zip_ref.extractall(extracted_dir_path)"
      ],
      "execution_count": null,
      "outputs": []
    },
    {
      "cell_type": "code",
      "source": [
        "import mimetypes\n",
        "\n",
        "file_path = '/content/archive (2).zip'\n",
        "mime_type, encoding = mimetypes.guess_type(file_path)"
      ],
      "metadata": {
        "id": "oFAXcyoHEDik"
      },
      "execution_count": null,
      "outputs": []
    },
    {
      "cell_type": "code",
      "source": [
        "import zipfile\n",
        "import os\n",
        "\n",
        "uploaded_zip_file = '/content/archive.zip'\n",
        "extracted_dir_path = '/content/extracted/'\n",
        "os.makedirs(extracted_dir_path, exist_ok=True)\n",
        "\n",
        "with zipfile.ZipFile(uploaded_zip_file, 'r') as zip_ref:\n",
        "    zip_ref.extractall(extracted_dir_path)\n",
        "\n",
        "print(f\"Successfully extracted to: {extracted_dir_path}\")\n"
      ],
      "metadata": {
        "colab": {
          "base_uri": "https://localhost:8080/"
        },
        "id": "G2KKNbUd3uRR",
        "outputId": "ca4afcd2-128e-41f5-dc63-8f22468c703d"
      },
      "execution_count": null,
      "outputs": [
        {
          "output_type": "stream",
          "name": "stdout",
          "text": [
            "Successfully extracted to: /content/extracted/\n"
          ]
        }
      ]
    },
    {
      "metadata": {
        "_cell_guid": "37d3b716-f0fe-f9f3-6ac0-1669a9c8d51c",
        "_active": false,
        "trusted": true,
        "id": "uigRAI9WjA1g",
        "colab": {
          "base_uri": "https://localhost:8080/"
        },
        "outputId": "8035a181-667b-4808-eb42-ec25054cec21"
      },
      "cell_type": "code",
      "source": [
        "%matplotlib inline\n",
        "import os\n",
        "for dirname, _, filenames in os.walk('/content/extracted/archive'):\n",
        "    print(dirname,\"______\")\n",
        "    for filename in filenames:\n",
        "        print(os.path.join(dirname, filename))"
      ],
      "execution_count": null,
      "outputs": [
        {
          "output_type": "stream",
          "name": "stdout",
          "text": [
            "/content/extracted/archive ______\n",
            "/content/extracted/archive/full_archive.npz\n",
            "/content/extracted/archive/overview.csv\n",
            "/content/extracted/archive/dicom_dir ______\n",
            "/content/extracted/archive/dicom_dir/ID_0026_AGE_0070_CONTRAST_1_CT.dcm\n",
            "/content/extracted/archive/dicom_dir/ID_0097_AGE_0060_CONTRAST_0_CT.dcm\n",
            "/content/extracted/archive/dicom_dir/ID_0020_AGE_0066_CONTRAST_1_CT.dcm\n",
            "/content/extracted/archive/dicom_dir/ID_0015_AGE_0061_CONTRAST_1_CT.dcm\n",
            "/content/extracted/archive/dicom_dir/ID_0086_AGE_0073_CONTRAST_0_CT.dcm\n",
            "/content/extracted/archive/dicom_dir/ID_0078_AGE_0066_CONTRAST_0_CT.dcm\n",
            "/content/extracted/archive/dicom_dir/ID_0033_AGE_0071_CONTRAST_1_CT.dcm\n",
            "/content/extracted/archive/dicom_dir/ID_0085_AGE_0067_CONTRAST_0_CT.dcm\n",
            "/content/extracted/archive/dicom_dir/ID_0072_AGE_0060_CONTRAST_0_CT.dcm\n",
            "/content/extracted/archive/dicom_dir/ID_0041_AGE_0045_CONTRAST_1_CT.dcm\n",
            "/content/extracted/archive/dicom_dir/ID_0043_AGE_0069_CONTRAST_1_CT.dcm\n",
            "/content/extracted/archive/dicom_dir/ID_0027_AGE_0064_CONTRAST_1_CT.dcm\n",
            "/content/extracted/archive/dicom_dir/ID_0014_AGE_0071_CONTRAST_1_CT.dcm\n",
            "/content/extracted/archive/dicom_dir/ID_0095_AGE_0071_CONTRAST_0_CT.dcm\n",
            "/content/extracted/archive/dicom_dir/ID_0089_AGE_0071_CONTRAST_0_CT.dcm\n",
            "/content/extracted/archive/dicom_dir/ID_0064_AGE_0058_CONTRAST_0_CT.dcm\n",
            "/content/extracted/archive/dicom_dir/ID_0051_AGE_0063_CONTRAST_0_CT.dcm\n",
            "/content/extracted/archive/dicom_dir/ID_0021_AGE_0067_CONTRAST_1_CT.dcm\n",
            "/content/extracted/archive/dicom_dir/ID_0062_AGE_0067_CONTRAST_0_CT.dcm\n",
            "/content/extracted/archive/dicom_dir/ID_0099_AGE_0061_CONTRAST_0_CT.dcm\n",
            "/content/extracted/archive/dicom_dir/ID_0081_AGE_0058_CONTRAST_0_CT.dcm\n",
            "/content/extracted/archive/dicom_dir/ID_0002_AGE_0074_CONTRAST_1_CT.dcm\n",
            "/content/extracted/archive/dicom_dir/ID_0056_AGE_0083_CONTRAST_0_CT.dcm\n",
            "/content/extracted/archive/dicom_dir/ID_0070_AGE_0074_CONTRAST_0_CT.dcm\n",
            "/content/extracted/archive/dicom_dir/ID_0012_AGE_0061_CONTRAST_1_CT.dcm\n",
            "/content/extracted/archive/dicom_dir/ID_0003_AGE_0075_CONTRAST_1_CT.dcm\n",
            "/content/extracted/archive/dicom_dir/ID_0024_AGE_0060_CONTRAST_1_CT.dcm\n",
            "/content/extracted/archive/dicom_dir/ID_0090_AGE_0067_CONTRAST_0_CT.dcm\n",
            "/content/extracted/archive/dicom_dir/ID_0045_AGE_0074_CONTRAST_1_CT.dcm\n",
            "/content/extracted/archive/dicom_dir/ID_0066_AGE_0082_CONTRAST_0_CT.dcm\n",
            "/content/extracted/archive/dicom_dir/ID_0069_AGE_0074_CONTRAST_0_CT.dcm\n",
            "/content/extracted/archive/dicom_dir/ID_0076_AGE_0068_CONTRAST_0_CT.dcm\n",
            "/content/extracted/archive/dicom_dir/ID_0082_AGE_0047_CONTRAST_0_CT.dcm\n",
            "/content/extracted/archive/dicom_dir/ID_0067_AGE_0060_CONTRAST_0_CT.dcm\n",
            "/content/extracted/archive/dicom_dir/ID_0038_AGE_0071_CONTRAST_1_CT.dcm\n",
            "/content/extracted/archive/dicom_dir/ID_0000_AGE_0060_CONTRAST_1_CT.dcm\n",
            "/content/extracted/archive/dicom_dir/ID_0057_AGE_0049_CONTRAST_0_CT.dcm\n",
            "/content/extracted/archive/dicom_dir/ID_0075_AGE_0080_CONTRAST_0_CT.dcm\n",
            "/content/extracted/archive/dicom_dir/ID_0079_AGE_0071_CONTRAST_0_CT.dcm\n",
            "/content/extracted/archive/dicom_dir/ID_0007_AGE_0061_CONTRAST_1_CT.dcm\n",
            "/content/extracted/archive/dicom_dir/ID_0073_AGE_0074_CONTRAST_0_CT.dcm\n",
            "/content/extracted/archive/dicom_dir/ID_0040_AGE_0069_CONTRAST_1_CT.dcm\n",
            "/content/extracted/archive/dicom_dir/ID_0011_AGE_0061_CONTRAST_1_CT.dcm\n",
            "/content/extracted/archive/dicom_dir/ID_0055_AGE_0071_CONTRAST_0_CT.dcm\n",
            "/content/extracted/archive/dicom_dir/ID_0054_AGE_0082_CONTRAST_0_CT.dcm\n",
            "/content/extracted/archive/dicom_dir/ID_0074_AGE_0074_CONTRAST_0_CT.dcm\n",
            "/content/extracted/archive/dicom_dir/ID_0036_AGE_0074_CONTRAST_1_CT.dcm\n",
            "/content/extracted/archive/dicom_dir/ID_0088_AGE_0067_CONTRAST_0_CT.dcm\n",
            "/content/extracted/archive/dicom_dir/ID_0044_AGE_0072_CONTRAST_1_CT.dcm\n",
            "/content/extracted/archive/dicom_dir/ID_0004_AGE_0056_CONTRAST_1_CT.dcm\n",
            "/content/extracted/archive/dicom_dir/ID_0030_AGE_0076_CONTRAST_1_CT.dcm\n",
            "/content/extracted/archive/dicom_dir/ID_0068_AGE_0072_CONTRAST_0_CT.dcm\n",
            "/content/extracted/archive/dicom_dir/ID_0037_AGE_0074_CONTRAST_1_CT.dcm\n",
            "/content/extracted/archive/dicom_dir/ID_0034_AGE_0061_CONTRAST_1_CT.dcm\n",
            "/content/extracted/archive/dicom_dir/ID_0048_AGE_0077_CONTRAST_1_CT.dcm\n",
            "/content/extracted/archive/dicom_dir/ID_0047_AGE_0069_CONTRAST_1_CT.dcm\n",
            "/content/extracted/archive/dicom_dir/ID_0093_AGE_0067_CONTRAST_0_CT.dcm\n",
            "/content/extracted/archive/dicom_dir/ID_0009_AGE_0048_CONTRAST_1_CT.dcm\n",
            "/content/extracted/archive/dicom_dir/ID_0065_AGE_0082_CONTRAST_0_CT.dcm\n",
            "/content/extracted/archive/dicom_dir/ID_0035_AGE_0059_CONTRAST_1_CT.dcm\n",
            "/content/extracted/archive/dicom_dir/ID_0022_AGE_0074_CONTRAST_1_CT.dcm\n",
            "/content/extracted/archive/dicom_dir/ID_0091_AGE_0072_CONTRAST_0_CT.dcm\n",
            "/content/extracted/archive/dicom_dir/ID_0083_AGE_0082_CONTRAST_0_CT.dcm\n",
            "/content/extracted/archive/dicom_dir/ID_0013_AGE_0060_CONTRAST_1_CT.dcm\n",
            "/content/extracted/archive/dicom_dir/ID_0080_AGE_0070_CONTRAST_0_CT.dcm\n",
            "/content/extracted/archive/dicom_dir/ID_0008_AGE_0051_CONTRAST_1_CT.dcm\n",
            "/content/extracted/archive/dicom_dir/ID_0017_AGE_0060_CONTRAST_1_CT.dcm\n",
            "/content/extracted/archive/dicom_dir/ID_0049_AGE_0061_CONTRAST_1_CT.dcm\n",
            "/content/extracted/archive/dicom_dir/ID_0046_AGE_0072_CONTRAST_1_CT.dcm\n",
            "/content/extracted/archive/dicom_dir/ID_0087_AGE_0044_CONTRAST_0_CT.dcm\n",
            "/content/extracted/archive/dicom_dir/ID_0010_AGE_0060_CONTRAST_1_CT.dcm\n",
            "/content/extracted/archive/dicom_dir/ID_0084_AGE_0067_CONTRAST_0_CT.dcm\n",
            "/content/extracted/archive/dicom_dir/ID_0023_AGE_0061_CONTRAST_1_CT.dcm\n",
            "/content/extracted/archive/dicom_dir/ID_0077_AGE_0074_CONTRAST_0_CT.dcm\n",
            "/content/extracted/archive/dicom_dir/ID_0059_AGE_0074_CONTRAST_0_CT.dcm\n",
            "/content/extracted/archive/dicom_dir/ID_0005_AGE_0048_CONTRAST_1_CT.dcm\n",
            "/content/extracted/archive/dicom_dir/ID_0019_AGE_0070_CONTRAST_1_CT.dcm\n",
            "/content/extracted/archive/dicom_dir/ID_0039_AGE_0074_CONTRAST_1_CT.dcm\n",
            "/content/extracted/archive/dicom_dir/ID_0053_AGE_0073_CONTRAST_0_CT.dcm\n",
            "/content/extracted/archive/dicom_dir/ID_0096_AGE_0083_CONTRAST_0_CT.dcm\n",
            "/content/extracted/archive/dicom_dir/ID_0006_AGE_0075_CONTRAST_1_CT.dcm\n",
            "/content/extracted/archive/dicom_dir/ID_0016_AGE_0063_CONTRAST_1_CT.dcm\n",
            "/content/extracted/archive/dicom_dir/ID_0063_AGE_0073_CONTRAST_0_CT.dcm\n",
            "/content/extracted/archive/dicom_dir/ID_0058_AGE_0082_CONTRAST_0_CT.dcm\n",
            "/content/extracted/archive/dicom_dir/ID_0092_AGE_0072_CONTRAST_0_CT.dcm\n",
            "/content/extracted/archive/dicom_dir/ID_0098_AGE_0061_CONTRAST_0_CT.dcm\n",
            "/content/extracted/archive/dicom_dir/ID_0060_AGE_0080_CONTRAST_0_CT.dcm\n",
            "/content/extracted/archive/dicom_dir/ID_0029_AGE_0078_CONTRAST_1_CT.dcm\n",
            "/content/extracted/archive/dicom_dir/ID_0028_AGE_0074_CONTRAST_1_CT.dcm\n",
            "/content/extracted/archive/dicom_dir/ID_0050_AGE_0074_CONTRAST_0_CT.dcm\n",
            "/content/extracted/archive/dicom_dir/ID_0071_AGE_0065_CONTRAST_0_CT.dcm\n",
            "/content/extracted/archive/dicom_dir/ID_0025_AGE_0074_CONTRAST_1_CT.dcm\n",
            "/content/extracted/archive/dicom_dir/ID_0094_AGE_0052_CONTRAST_0_CT.dcm\n",
            "/content/extracted/archive/dicom_dir/ID_0018_AGE_0074_CONTRAST_1_CT.dcm\n",
            "/content/extracted/archive/dicom_dir/ID_0061_AGE_0074_CONTRAST_0_CT.dcm\n",
            "/content/extracted/archive/dicom_dir/ID_0032_AGE_0061_CONTRAST_1_CT.dcm\n",
            "/content/extracted/archive/dicom_dir/ID_0052_AGE_0072_CONTRAST_0_CT.dcm\n",
            "/content/extracted/archive/dicom_dir/ID_0042_AGE_0071_CONTRAST_1_CT.dcm\n",
            "/content/extracted/archive/dicom_dir/ID_0031_AGE_0039_CONTRAST_1_CT.dcm\n",
            "/content/extracted/archive/dicom_dir/ID_0001_AGE_0069_CONTRAST_1_CT.dcm\n",
            "/content/extracted/archive/tiff_images ______\n",
            "/content/extracted/archive/tiff_images/ID_0019_AGE_0070_CONTRAST_1_CT.tif\n",
            "/content/extracted/archive/tiff_images/ID_0049_AGE_0061_CONTRAST_1_CT.tif\n",
            "/content/extracted/archive/tiff_images/ID_0032_AGE_0061_CONTRAST_1_CT.tif\n",
            "/content/extracted/archive/tiff_images/ID_0056_AGE_0083_CONTRAST_0_CT.tif\n",
            "/content/extracted/archive/tiff_images/ID_0047_AGE_0069_CONTRAST_1_CT.tif\n",
            "/content/extracted/archive/tiff_images/ID_0076_AGE_0068_CONTRAST_0_CT.tif\n",
            "/content/extracted/archive/tiff_images/ID_0062_AGE_0067_CONTRAST_0_CT.tif\n",
            "/content/extracted/archive/tiff_images/ID_0045_AGE_0074_CONTRAST_1_CT.tif\n",
            "/content/extracted/archive/tiff_images/ID_0013_AGE_0060_CONTRAST_1_CT.tif\n",
            "/content/extracted/archive/tiff_images/ID_0016_AGE_0063_CONTRAST_1_CT.tif\n",
            "/content/extracted/archive/tiff_images/ID_0070_AGE_0074_CONTRAST_0_CT.tif\n",
            "/content/extracted/archive/tiff_images/ID_0095_AGE_0071_CONTRAST_0_CT.tif\n",
            "/content/extracted/archive/tiff_images/ID_0006_AGE_0075_CONTRAST_1_CT.tif\n",
            "/content/extracted/archive/tiff_images/ID_0061_AGE_0074_CONTRAST_0_CT.tif\n",
            "/content/extracted/archive/tiff_images/ID_0082_AGE_0047_CONTRAST_0_CT.tif\n",
            "/content/extracted/archive/tiff_images/ID_0086_AGE_0073_CONTRAST_0_CT.tif\n",
            "/content/extracted/archive/tiff_images/ID_0067_AGE_0060_CONTRAST_0_CT.tif\n",
            "/content/extracted/archive/tiff_images/ID_0071_AGE_0065_CONTRAST_0_CT.tif\n",
            "/content/extracted/archive/tiff_images/ID_0012_AGE_0061_CONTRAST_1_CT.tif\n",
            "/content/extracted/archive/tiff_images/ID_0053_AGE_0073_CONTRAST_0_CT.tif\n",
            "/content/extracted/archive/tiff_images/ID_0040_AGE_0069_CONTRAST_1_CT.tif\n",
            "/content/extracted/archive/tiff_images/ID_0046_AGE_0072_CONTRAST_1_CT.tif\n",
            "/content/extracted/archive/tiff_images/ID_0066_AGE_0082_CONTRAST_0_CT.tif\n",
            "/content/extracted/archive/tiff_images/ID_0039_AGE_0074_CONTRAST_1_CT.tif\n",
            "/content/extracted/archive/tiff_images/ID_0020_AGE_0066_CONTRAST_1_CT.tif\n",
            "/content/extracted/archive/tiff_images/ID_0074_AGE_0074_CONTRAST_0_CT.tif\n",
            "/content/extracted/archive/tiff_images/ID_0035_AGE_0059_CONTRAST_1_CT.tif\n",
            "/content/extracted/archive/tiff_images/ID_0081_AGE_0058_CONTRAST_0_CT.tif\n",
            "/content/extracted/archive/tiff_images/ID_0036_AGE_0074_CONTRAST_1_CT.tif\n",
            "/content/extracted/archive/tiff_images/ID_0079_AGE_0071_CONTRAST_0_CT.tif\n",
            "/content/extracted/archive/tiff_images/ID_0098_AGE_0061_CONTRAST_0_CT.tif\n",
            "/content/extracted/archive/tiff_images/ID_0018_AGE_0074_CONTRAST_1_CT.tif\n",
            "/content/extracted/archive/tiff_images/ID_0022_AGE_0074_CONTRAST_1_CT.tif\n",
            "/content/extracted/archive/tiff_images/ID_0072_AGE_0060_CONTRAST_0_CT.tif\n",
            "/content/extracted/archive/tiff_images/ID_0030_AGE_0076_CONTRAST_1_CT.tif\n",
            "/content/extracted/archive/tiff_images/ID_0087_AGE_0044_CONTRAST_0_CT.tif\n",
            "/content/extracted/archive/tiff_images/ID_0034_AGE_0061_CONTRAST_1_CT.tif\n",
            "/content/extracted/archive/tiff_images/ID_0038_AGE_0071_CONTRAST_1_CT.tif\n",
            "/content/extracted/archive/tiff_images/ID_0031_AGE_0039_CONTRAST_1_CT.tif\n",
            "/content/extracted/archive/tiff_images/ID_0043_AGE_0069_CONTRAST_1_CT.tif\n",
            "/content/extracted/archive/tiff_images/ID_0077_AGE_0074_CONTRAST_0_CT.tif\n",
            "/content/extracted/archive/tiff_images/ID_0015_AGE_0061_CONTRAST_1_CT.tif\n",
            "/content/extracted/archive/tiff_images/ID_0002_AGE_0074_CONTRAST_1_CT.tif\n",
            "/content/extracted/archive/tiff_images/ID_0007_AGE_0061_CONTRAST_1_CT.tif\n",
            "/content/extracted/archive/tiff_images/ID_0075_AGE_0080_CONTRAST_0_CT.tif\n",
            "/content/extracted/archive/tiff_images/ID_0065_AGE_0082_CONTRAST_0_CT.tif\n",
            "/content/extracted/archive/tiff_images/ID_0069_AGE_0074_CONTRAST_0_CT.tif\n",
            "/content/extracted/archive/tiff_images/ID_0083_AGE_0082_CONTRAST_0_CT.tif\n",
            "/content/extracted/archive/tiff_images/ID_0080_AGE_0070_CONTRAST_0_CT.tif\n",
            "/content/extracted/archive/tiff_images/ID_0089_AGE_0071_CONTRAST_0_CT.tif\n",
            "/content/extracted/archive/tiff_images/ID_0004_AGE_0056_CONTRAST_1_CT.tif\n",
            "/content/extracted/archive/tiff_images/ID_0097_AGE_0060_CONTRAST_0_CT.tif\n",
            "/content/extracted/archive/tiff_images/ID_0005_AGE_0048_CONTRAST_1_CT.tif\n",
            "/content/extracted/archive/tiff_images/ID_0092_AGE_0072_CONTRAST_0_CT.tif\n",
            "/content/extracted/archive/tiff_images/ID_0001_AGE_0069_CONTRAST_1_CT.tif\n",
            "/content/extracted/archive/tiff_images/ID_0090_AGE_0067_CONTRAST_0_CT.tif\n",
            "/content/extracted/archive/tiff_images/ID_0000_AGE_0060_CONTRAST_1_CT.tif\n",
            "/content/extracted/archive/tiff_images/ID_0044_AGE_0072_CONTRAST_1_CT.tif\n",
            "/content/extracted/archive/tiff_images/ID_0060_AGE_0080_CONTRAST_0_CT.tif\n",
            "/content/extracted/archive/tiff_images/ID_0084_AGE_0067_CONTRAST_0_CT.tif\n",
            "/content/extracted/archive/tiff_images/ID_0085_AGE_0067_CONTRAST_0_CT.tif\n",
            "/content/extracted/archive/tiff_images/ID_0052_AGE_0072_CONTRAST_0_CT.tif\n",
            "/content/extracted/archive/tiff_images/ID_0023_AGE_0061_CONTRAST_1_CT.tif\n",
            "/content/extracted/archive/tiff_images/ID_0094_AGE_0052_CONTRAST_0_CT.tif\n",
            "/content/extracted/archive/tiff_images/ID_0051_AGE_0063_CONTRAST_0_CT.tif\n",
            "/content/extracted/archive/tiff_images/ID_0003_AGE_0075_CONTRAST_1_CT.tif\n",
            "/content/extracted/archive/tiff_images/ID_0064_AGE_0058_CONTRAST_0_CT.tif\n",
            "/content/extracted/archive/tiff_images/ID_0009_AGE_0048_CONTRAST_1_CT.tif\n",
            "/content/extracted/archive/tiff_images/ID_0008_AGE_0051_CONTRAST_1_CT.tif\n",
            "/content/extracted/archive/tiff_images/ID_0073_AGE_0074_CONTRAST_0_CT.tif\n",
            "/content/extracted/archive/tiff_images/ID_0059_AGE_0074_CONTRAST_0_CT.tif\n",
            "/content/extracted/archive/tiff_images/ID_0017_AGE_0060_CONTRAST_1_CT.tif\n",
            "/content/extracted/archive/tiff_images/ID_0014_AGE_0071_CONTRAST_1_CT.tif\n",
            "/content/extracted/archive/tiff_images/ID_0024_AGE_0060_CONTRAST_1_CT.tif\n",
            "/content/extracted/archive/tiff_images/ID_0033_AGE_0071_CONTRAST_1_CT.tif\n",
            "/content/extracted/archive/tiff_images/ID_0028_AGE_0074_CONTRAST_1_CT.tif\n",
            "/content/extracted/archive/tiff_images/ID_0042_AGE_0071_CONTRAST_1_CT.tif\n",
            "/content/extracted/archive/tiff_images/ID_0050_AGE_0074_CONTRAST_0_CT.tif\n",
            "/content/extracted/archive/tiff_images/ID_0068_AGE_0072_CONTRAST_0_CT.tif\n",
            "/content/extracted/archive/tiff_images/ID_0025_AGE_0074_CONTRAST_1_CT.tif\n",
            "/content/extracted/archive/tiff_images/ID_0099_AGE_0061_CONTRAST_0_CT.tif\n",
            "/content/extracted/archive/tiff_images/ID_0041_AGE_0045_CONTRAST_1_CT.tif\n",
            "/content/extracted/archive/tiff_images/ID_0078_AGE_0066_CONTRAST_0_CT.tif\n",
            "/content/extracted/archive/tiff_images/ID_0026_AGE_0070_CONTRAST_1_CT.tif\n",
            "/content/extracted/archive/tiff_images/ID_0058_AGE_0082_CONTRAST_0_CT.tif\n",
            "/content/extracted/archive/tiff_images/ID_0096_AGE_0083_CONTRAST_0_CT.tif\n",
            "/content/extracted/archive/tiff_images/ID_0029_AGE_0078_CONTRAST_1_CT.tif\n",
            "/content/extracted/archive/tiff_images/ID_0091_AGE_0072_CONTRAST_0_CT.tif\n",
            "/content/extracted/archive/tiff_images/ID_0093_AGE_0067_CONTRAST_0_CT.tif\n",
            "/content/extracted/archive/tiff_images/ID_0057_AGE_0049_CONTRAST_0_CT.tif\n",
            "/content/extracted/archive/tiff_images/ID_0054_AGE_0082_CONTRAST_0_CT.tif\n",
            "/content/extracted/archive/tiff_images/ID_0048_AGE_0077_CONTRAST_1_CT.tif\n",
            "/content/extracted/archive/tiff_images/ID_0063_AGE_0073_CONTRAST_0_CT.tif\n",
            "/content/extracted/archive/tiff_images/ID_0010_AGE_0060_CONTRAST_1_CT.tif\n",
            "/content/extracted/archive/tiff_images/ID_0027_AGE_0064_CONTRAST_1_CT.tif\n",
            "/content/extracted/archive/tiff_images/ID_0037_AGE_0074_CONTRAST_1_CT.tif\n",
            "/content/extracted/archive/tiff_images/ID_0055_AGE_0071_CONTRAST_0_CT.tif\n",
            "/content/extracted/archive/tiff_images/ID_0011_AGE_0061_CONTRAST_1_CT.tif\n",
            "/content/extracted/archive/tiff_images/ID_0021_AGE_0067_CONTRAST_1_CT.tif\n",
            "/content/extracted/archive/tiff_images/ID_0088_AGE_0067_CONTRAST_0_CT.tif\n"
          ]
        }
      ]
    },
    {
      "metadata": {
        "_cell_guid": "61bb3a42-946e-ebeb-e787-9f59164a1683",
        "_active": false,
        "id": "qAAsyxutjA1k"
      },
      "cell_type": "markdown",
      "source": [
        "Exploratory data analysis"
      ]
    },
    {
      "metadata": {
        "_cell_guid": "cbc3da93-f439-0d61-fe6e-b395e7e81e81",
        "_active": false,
        "trusted": true,
        "id": "qH2yl3TCjA1m",
        "outputId": "0a64dda3-315d-40cb-dfd0-a80be5d5a65d",
        "colab": {
          "base_uri": "https://localhost:8080/",
          "height": 347
        }
      },
      "cell_type": "code",
      "source": [
        "IS_LOCAL = False\n",
        "if(IS_LOCAL):\n",
        "    PATH=\"../input/siim-medical-image/\"\n",
        "else:\n",
        "    PATH=\"/content/extracted/archive\"\n",
        "print(os.listdir(PATH))\n",
        "overview = pd.read_csv(os.path.join(PATH,\"overview.csv\"))\n",
        "overview.head()"
      ],
      "execution_count": null,
      "outputs": [
        {
          "output_type": "stream",
          "name": "stdout",
          "text": [
            "['dicom_dir', 'full_archive.npz', 'overview.csv', 'tiff_images']\n"
          ]
        },
        {
          "output_type": "execute_result",
          "data": {
            "text/plain": [
              "   Unnamed: 0  Age  Contrast ContrastTag  \\\n",
              "0           0   60      True        NONE   \n",
              "1           1   69      True        NONE   \n",
              "2           2   74      True     APPLIED   \n",
              "3           3   75      True        NONE   \n",
              "4           4   56      True        NONE   \n",
              "\n",
              "                                      raw_input_path  id  \\\n",
              "0   ../data/50_50_dicom_cases\\Contrast\\00001 (1).dcm   0   \n",
              "1  ../data/50_50_dicom_cases\\Contrast\\00001 (10).dcm   1   \n",
              "2  ../data/50_50_dicom_cases\\Contrast\\00001 (11).dcm   2   \n",
              "3  ../data/50_50_dicom_cases\\Contrast\\00001 (12).dcm   3   \n",
              "4  ../data/50_50_dicom_cases\\Contrast\\00001 (13).dcm   4   \n",
              "\n",
              "                            tiff_name                          dicom_name  \n",
              "0  ID_0000_AGE_0060_CONTRAST_1_CT.tif  ID_0000_AGE_0060_CONTRAST_1_CT.dcm  \n",
              "1  ID_0001_AGE_0069_CONTRAST_1_CT.tif  ID_0001_AGE_0069_CONTRAST_1_CT.dcm  \n",
              "2  ID_0002_AGE_0074_CONTRAST_1_CT.tif  ID_0002_AGE_0074_CONTRAST_1_CT.dcm  \n",
              "3  ID_0003_AGE_0075_CONTRAST_1_CT.tif  ID_0003_AGE_0075_CONTRAST_1_CT.dcm  \n",
              "4  ID_0004_AGE_0056_CONTRAST_1_CT.tif  ID_0004_AGE_0056_CONTRAST_1_CT.dcm  "
            ],
            "text/html": [
              "\n",
              "  <div id=\"df-4ddb497d-a43d-4844-b2eb-a294ea80b370\" class=\"colab-df-container\">\n",
              "    <div>\n",
              "<style scoped>\n",
              "    .dataframe tbody tr th:only-of-type {\n",
              "        vertical-align: middle;\n",
              "    }\n",
              "\n",
              "    .dataframe tbody tr th {\n",
              "        vertical-align: top;\n",
              "    }\n",
              "\n",
              "    .dataframe thead th {\n",
              "        text-align: right;\n",
              "    }\n",
              "</style>\n",
              "<table border=\"1\" class=\"dataframe\">\n",
              "  <thead>\n",
              "    <tr style=\"text-align: right;\">\n",
              "      <th></th>\n",
              "      <th>Unnamed: 0</th>\n",
              "      <th>Age</th>\n",
              "      <th>Contrast</th>\n",
              "      <th>ContrastTag</th>\n",
              "      <th>raw_input_path</th>\n",
              "      <th>id</th>\n",
              "      <th>tiff_name</th>\n",
              "      <th>dicom_name</th>\n",
              "    </tr>\n",
              "  </thead>\n",
              "  <tbody>\n",
              "    <tr>\n",
              "      <th>0</th>\n",
              "      <td>0</td>\n",
              "      <td>60</td>\n",
              "      <td>True</td>\n",
              "      <td>NONE</td>\n",
              "      <td>../data/50_50_dicom_cases\\Contrast\\00001 (1).dcm</td>\n",
              "      <td>0</td>\n",
              "      <td>ID_0000_AGE_0060_CONTRAST_1_CT.tif</td>\n",
              "      <td>ID_0000_AGE_0060_CONTRAST_1_CT.dcm</td>\n",
              "    </tr>\n",
              "    <tr>\n",
              "      <th>1</th>\n",
              "      <td>1</td>\n",
              "      <td>69</td>\n",
              "      <td>True</td>\n",
              "      <td>NONE</td>\n",
              "      <td>../data/50_50_dicom_cases\\Contrast\\00001 (10).dcm</td>\n",
              "      <td>1</td>\n",
              "      <td>ID_0001_AGE_0069_CONTRAST_1_CT.tif</td>\n",
              "      <td>ID_0001_AGE_0069_CONTRAST_1_CT.dcm</td>\n",
              "    </tr>\n",
              "    <tr>\n",
              "      <th>2</th>\n",
              "      <td>2</td>\n",
              "      <td>74</td>\n",
              "      <td>True</td>\n",
              "      <td>APPLIED</td>\n",
              "      <td>../data/50_50_dicom_cases\\Contrast\\00001 (11).dcm</td>\n",
              "      <td>2</td>\n",
              "      <td>ID_0002_AGE_0074_CONTRAST_1_CT.tif</td>\n",
              "      <td>ID_0002_AGE_0074_CONTRAST_1_CT.dcm</td>\n",
              "    </tr>\n",
              "    <tr>\n",
              "      <th>3</th>\n",
              "      <td>3</td>\n",
              "      <td>75</td>\n",
              "      <td>True</td>\n",
              "      <td>NONE</td>\n",
              "      <td>../data/50_50_dicom_cases\\Contrast\\00001 (12).dcm</td>\n",
              "      <td>3</td>\n",
              "      <td>ID_0003_AGE_0075_CONTRAST_1_CT.tif</td>\n",
              "      <td>ID_0003_AGE_0075_CONTRAST_1_CT.dcm</td>\n",
              "    </tr>\n",
              "    <tr>\n",
              "      <th>4</th>\n",
              "      <td>4</td>\n",
              "      <td>56</td>\n",
              "      <td>True</td>\n",
              "      <td>NONE</td>\n",
              "      <td>../data/50_50_dicom_cases\\Contrast\\00001 (13).dcm</td>\n",
              "      <td>4</td>\n",
              "      <td>ID_0004_AGE_0056_CONTRAST_1_CT.tif</td>\n",
              "      <td>ID_0004_AGE_0056_CONTRAST_1_CT.dcm</td>\n",
              "    </tr>\n",
              "  </tbody>\n",
              "</table>\n",
              "</div>\n",
              "    <div class=\"colab-df-buttons\">\n",
              "\n",
              "  <div class=\"colab-df-container\">\n",
              "    <button class=\"colab-df-convert\" onclick=\"convertToInteractive('df-4ddb497d-a43d-4844-b2eb-a294ea80b370')\"\n",
              "            title=\"Convert this dataframe to an interactive table.\"\n",
              "            style=\"display:none;\">\n",
              "\n",
              "  <svg xmlns=\"http://www.w3.org/2000/svg\" height=\"24px\" viewBox=\"0 -960 960 960\">\n",
              "    <path d=\"M120-120v-720h720v720H120Zm60-500h600v-160H180v160Zm220 220h160v-160H400v160Zm0 220h160v-160H400v160ZM180-400h160v-160H180v160Zm440 0h160v-160H620v160ZM180-180h160v-160H180v160Zm440 0h160v-160H620v160Z\"/>\n",
              "  </svg>\n",
              "    </button>\n",
              "\n",
              "  <style>\n",
              "    .colab-df-container {\n",
              "      display:flex;\n",
              "      gap: 12px;\n",
              "    }\n",
              "\n",
              "    .colab-df-convert {\n",
              "      background-color: #E8F0FE;\n",
              "      border: none;\n",
              "      border-radius: 50%;\n",
              "      cursor: pointer;\n",
              "      display: none;\n",
              "      fill: #1967D2;\n",
              "      height: 32px;\n",
              "      padding: 0 0 0 0;\n",
              "      width: 32px;\n",
              "    }\n",
              "\n",
              "    .colab-df-convert:hover {\n",
              "      background-color: #E2EBFA;\n",
              "      box-shadow: 0px 1px 2px rgba(60, 64, 67, 0.3), 0px 1px 3px 1px rgba(60, 64, 67, 0.15);\n",
              "      fill: #174EA6;\n",
              "    }\n",
              "\n",
              "    .colab-df-buttons div {\n",
              "      margin-bottom: 4px;\n",
              "    }\n",
              "\n",
              "    [theme=dark] .colab-df-convert {\n",
              "      background-color: #3B4455;\n",
              "      fill: #D2E3FC;\n",
              "    }\n",
              "\n",
              "    [theme=dark] .colab-df-convert:hover {\n",
              "      background-color: #434B5C;\n",
              "      box-shadow: 0px 1px 3px 1px rgba(0, 0, 0, 0.15);\n",
              "      filter: drop-shadow(0px 1px 2px rgba(0, 0, 0, 0.3));\n",
              "      fill: #FFFFFF;\n",
              "    }\n",
              "  </style>\n",
              "\n",
              "    <script>\n",
              "      const buttonEl =\n",
              "        document.querySelector('#df-4ddb497d-a43d-4844-b2eb-a294ea80b370 button.colab-df-convert');\n",
              "      buttonEl.style.display =\n",
              "        google.colab.kernel.accessAllowed ? 'block' : 'none';\n",
              "\n",
              "      async function convertToInteractive(key) {\n",
              "        const element = document.querySelector('#df-4ddb497d-a43d-4844-b2eb-a294ea80b370');\n",
              "        const dataTable =\n",
              "          await google.colab.kernel.invokeFunction('convertToInteractive',\n",
              "                                                    [key], {});\n",
              "        if (!dataTable) return;\n",
              "\n",
              "        const docLinkHtml = 'Like what you see? Visit the ' +\n",
              "          '<a target=\"_blank\" href=https://colab.research.google.com/notebooks/data_table.ipynb>data table notebook</a>'\n",
              "          + ' to learn more about interactive tables.';\n",
              "        element.innerHTML = '';\n",
              "        dataTable['output_type'] = 'display_data';\n",
              "        await google.colab.output.renderOutput(dataTable, element);\n",
              "        const docLink = document.createElement('div');\n",
              "        docLink.innerHTML = docLinkHtml;\n",
              "        element.appendChild(docLink);\n",
              "      }\n",
              "    </script>\n",
              "  </div>\n",
              "\n",
              "\n",
              "<div id=\"df-f6cb4279-08ed-48fe-8e0d-c74ba01e6936\">\n",
              "  <button class=\"colab-df-quickchart\" onclick=\"quickchart('df-f6cb4279-08ed-48fe-8e0d-c74ba01e6936')\"\n",
              "            title=\"Suggest charts\"\n",
              "            style=\"display:none;\">\n",
              "\n",
              "<svg xmlns=\"http://www.w3.org/2000/svg\" height=\"24px\"viewBox=\"0 0 24 24\"\n",
              "     width=\"24px\">\n",
              "    <g>\n",
              "        <path d=\"M19 3H5c-1.1 0-2 .9-2 2v14c0 1.1.9 2 2 2h14c1.1 0 2-.9 2-2V5c0-1.1-.9-2-2-2zM9 17H7v-7h2v7zm4 0h-2V7h2v10zm4 0h-2v-4h2v4z\"/>\n",
              "    </g>\n",
              "</svg>\n",
              "  </button>\n",
              "\n",
              "<style>\n",
              "  .colab-df-quickchart {\n",
              "      --bg-color: #E8F0FE;\n",
              "      --fill-color: #1967D2;\n",
              "      --hover-bg-color: #E2EBFA;\n",
              "      --hover-fill-color: #174EA6;\n",
              "      --disabled-fill-color: #AAA;\n",
              "      --disabled-bg-color: #DDD;\n",
              "  }\n",
              "\n",
              "  [theme=dark] .colab-df-quickchart {\n",
              "      --bg-color: #3B4455;\n",
              "      --fill-color: #D2E3FC;\n",
              "      --hover-bg-color: #434B5C;\n",
              "      --hover-fill-color: #FFFFFF;\n",
              "      --disabled-bg-color: #3B4455;\n",
              "      --disabled-fill-color: #666;\n",
              "  }\n",
              "\n",
              "  .colab-df-quickchart {\n",
              "    background-color: var(--bg-color);\n",
              "    border: none;\n",
              "    border-radius: 50%;\n",
              "    cursor: pointer;\n",
              "    display: none;\n",
              "    fill: var(--fill-color);\n",
              "    height: 32px;\n",
              "    padding: 0;\n",
              "    width: 32px;\n",
              "  }\n",
              "\n",
              "  .colab-df-quickchart:hover {\n",
              "    background-color: var(--hover-bg-color);\n",
              "    box-shadow: 0 1px 2px rgba(60, 64, 67, 0.3), 0 1px 3px 1px rgba(60, 64, 67, 0.15);\n",
              "    fill: var(--button-hover-fill-color);\n",
              "  }\n",
              "\n",
              "  .colab-df-quickchart-complete:disabled,\n",
              "  .colab-df-quickchart-complete:disabled:hover {\n",
              "    background-color: var(--disabled-bg-color);\n",
              "    fill: var(--disabled-fill-color);\n",
              "    box-shadow: none;\n",
              "  }\n",
              "\n",
              "  .colab-df-spinner {\n",
              "    border: 2px solid var(--fill-color);\n",
              "    border-color: transparent;\n",
              "    border-bottom-color: var(--fill-color);\n",
              "    animation:\n",
              "      spin 1s steps(1) infinite;\n",
              "  }\n",
              "\n",
              "  @keyframes spin {\n",
              "    0% {\n",
              "      border-color: transparent;\n",
              "      border-bottom-color: var(--fill-color);\n",
              "      border-left-color: var(--fill-color);\n",
              "    }\n",
              "    20% {\n",
              "      border-color: transparent;\n",
              "      border-left-color: var(--fill-color);\n",
              "      border-top-color: var(--fill-color);\n",
              "    }\n",
              "    30% {\n",
              "      border-color: transparent;\n",
              "      border-left-color: var(--fill-color);\n",
              "      border-top-color: var(--fill-color);\n",
              "      border-right-color: var(--fill-color);\n",
              "    }\n",
              "    40% {\n",
              "      border-color: transparent;\n",
              "      border-right-color: var(--fill-color);\n",
              "      border-top-color: var(--fill-color);\n",
              "    }\n",
              "    60% {\n",
              "      border-color: transparent;\n",
              "      border-right-color: var(--fill-color);\n",
              "    }\n",
              "    80% {\n",
              "      border-color: transparent;\n",
              "      border-right-color: var(--fill-color);\n",
              "      border-bottom-color: var(--fill-color);\n",
              "    }\n",
              "    90% {\n",
              "      border-color: transparent;\n",
              "      border-bottom-color: var(--fill-color);\n",
              "    }\n",
              "  }\n",
              "</style>\n",
              "\n",
              "  <script>\n",
              "    async function quickchart(key) {\n",
              "      const quickchartButtonEl =\n",
              "        document.querySelector('#' + key + ' button');\n",
              "      quickchartButtonEl.disabled = true;  // To prevent multiple clicks.\n",
              "      quickchartButtonEl.classList.add('colab-df-spinner');\n",
              "      try {\n",
              "        const charts = await google.colab.kernel.invokeFunction(\n",
              "            'suggestCharts', [key], {});\n",
              "      } catch (error) {\n",
              "        console.error('Error during call to suggestCharts:', error);\n",
              "      }\n",
              "      quickchartButtonEl.classList.remove('colab-df-spinner');\n",
              "      quickchartButtonEl.classList.add('colab-df-quickchart-complete');\n",
              "    }\n",
              "    (() => {\n",
              "      let quickchartButtonEl =\n",
              "        document.querySelector('#df-f6cb4279-08ed-48fe-8e0d-c74ba01e6936 button');\n",
              "      quickchartButtonEl.style.display =\n",
              "        google.colab.kernel.accessAllowed ? 'block' : 'none';\n",
              "    })();\n",
              "  </script>\n",
              "</div>\n",
              "    </div>\n",
              "  </div>\n"
            ]
          },
          "metadata": {},
          "execution_count": 15
        }
      ]
    },
    {
      "metadata": {
        "_cell_guid": "79b78f95-baca-2d76-0327-2313437e274f",
        "_active": false,
        "trusted": true,
        "id": "CMPupVCwjA1r",
        "outputId": "10773755-eb0d-4176-fcb9-ccacd8ff3410",
        "colab": {
          "base_uri": "https://localhost:8080/"
        }
      },
      "cell_type": "code",
      "source": [
        "len(overview)"
      ],
      "execution_count": null,
      "outputs": [
        {
          "output_type": "execute_result",
          "data": {
            "text/plain": [
              "100"
            ]
          },
          "metadata": {},
          "execution_count": 18
        }
      ]
    },
    {
      "metadata": {
        "_cell_guid": "839a64dc-5509-5c6a-56b2-c3c47ece0299",
        "_active": false,
        "trusted": true,
        "id": "BMHFkNiEjA1u"
      },
      "cell_type": "code",
      "source": [
        "overview['Contrast'] = overview['Contrast'].map(lambda x: 1 if x else 0)"
      ],
      "execution_count": null,
      "outputs": []
    },
    {
      "metadata": {
        "_cell_guid": "6c7a70ca-6bfe-e7b1-612b-83cd477e00ba",
        "_active": false,
        "trusted": true,
        "id": "DcfcTkKajA1x",
        "outputId": "7d9e6d9a-8f01-44df-e7b3-ed8de04f63db",
        "colab": {
          "base_uri": "https://localhost:8080/",
          "height": 673
        }
      },
      "cell_type": "code",
      "source": [
        "# plotting\n",
        "plt.figure(figsize=(10,5))\n",
        "sns.distplot(overview['Age'])"
      ],
      "execution_count": null,
      "outputs": [
        {
          "output_type": "stream",
          "name": "stderr",
          "text": [
            "<ipython-input-20-b53b74832c80>:2: UserWarning: \n",
            "\n",
            "`distplot` is a deprecated function and will be removed in seaborn v0.14.0.\n",
            "\n",
            "Please adapt your code to use either `displot` (a figure-level function with\n",
            "similar flexibility) or `histplot` (an axes-level function for histograms).\n",
            "\n",
            "For a guide to updating your code to use the new functions, please see\n",
            "https://gist.github.com/mwaskom/de44147ed2974457ad6372750bbe5751\n",
            "\n",
            "  sns.distplot(overview['Age'])\n"
          ]
        },
        {
          "output_type": "execute_result",
          "data": {
            "text/plain": [
              "<Axes: xlabel='Age', ylabel='Density'>"
            ]
          },
          "metadata": {},
          "execution_count": 20
        },
        {
          "output_type": "display_data",
          "data": {
            "text/plain": [
              "<Figure size 1000x500 with 1 Axes>"
            ],
            "image/png": "[encoded data removed]"
          },
          "metadata": {}
        }
      ]
    },
    {
      "metadata": {
        "_cell_guid": "cab233d2-8302-4092-c292-ebf6f5f54e46",
        "_active": false,
        "trusted": true,
        "id": "B9Y6JX58jA1z",
        "outputId": "bd730f36-f099-48b9-9762-e5e46a35fa52",
        "colab": {
          "base_uri": "https://localhost:8080/",
          "height": 689
        }
      },
      "cell_type": "code",
      "source": [
        "g = sns.FacetGrid(overview, col=\"Contrast\")\n",
        "g = g.map(sns.distplot, \"Age\")"
      ],
      "execution_count": null,
      "outputs": [
        {
          "output_type": "stream",
          "name": "stderr",
          "text": [
            "/usr/local/lib/python3.10/dist-packages/seaborn/axisgrid.py:848: UserWarning: \n",
            "\n",
            "`distplot` is a deprecated function and will be removed in seaborn v0.14.0.\n",
            "\n",
            "Please adapt your code to use either `displot` (a figure-level function with\n",
            "similar flexibility) or `histplot` (an axes-level function for histograms).\n",
            "\n",
            "For a guide to updating your code to use the new functions, please see\n",
            "https://gist.github.com/mwaskom/de44147ed2974457ad6372750bbe5751\n",
            "\n",
            "  func(*plot_args, **plot_kwargs)\n",
            "/usr/local/lib/python3.10/dist-packages/seaborn/axisgrid.py:848: UserWarning: \n",
            "\n",
            "`distplot` is a deprecated function and will be removed in seaborn v0.14.0.\n",
            "\n",
            "Please adapt your code to use either `displot` (a figure-level function with\n",
            "similar flexibility) or `histplot` (an axes-level function for histograms).\n",
            "\n",
            "For a guide to updating your code to use the new functions, please see\n",
            "https://gist.github.com/mwaskom/de44147ed2974457ad6372750bbe5751\n",
            "\n",
            "  func(*plot_args, **plot_kwargs)\n"
          ]
        },
        {
          "output_type": "display_data",
          "data": {
            "text/plain": [
              "<Figure size 600x300 with 2 Axes>"
            ],
            "image/png": "[encoded data removed]"
          },
          "metadata": {}
        }
      ]
    },
    {
      "metadata": {
        "_cell_guid": "83830c45-c4cf-509a-ee0c-d9c8075ec616",
        "_active": false,
        "trusted": true,
        "id": "YpDrh4ZTjA11",
        "outputId": "1bddb81a-3f2b-4766-c0a6-243e237e8de2",
        "colab": {
          "base_uri": "https://localhost:8080/",
          "height": 689
        }
      },
      "cell_type": "code",
      "source": [
        "g = sns.FacetGrid(overview, hue=\"Contrast\", legend_out=True)\n",
        "g = g.map(sns.distplot, \"Age\").add_legend()"
      ],
      "execution_count": null,
      "outputs": [
        {
          "output_type": "stream",
          "name": "stderr",
          "text": [
            "/usr/local/lib/python3.10/dist-packages/seaborn/axisgrid.py:848: UserWarning: \n",
            "\n",
            "`distplot` is a deprecated function and will be removed in seaborn v0.14.0.\n",
            "\n",
            "Please adapt your code to use either `displot` (a figure-level function with\n",
            "similar flexibility) or `histplot` (an axes-level function for histograms).\n",
            "\n",
            "For a guide to updating your code to use the new functions, please see\n",
            "https://gist.github.com/mwaskom/de44147ed2974457ad6372750bbe5751\n",
            "\n",
            "  func(*plot_args, **plot_kwargs)\n",
            "/usr/local/lib/python3.10/dist-packages/seaborn/axisgrid.py:848: UserWarning: \n",
            "\n",
            "`distplot` is a deprecated function and will be removed in seaborn v0.14.0.\n",
            "\n",
            "Please adapt your code to use either `displot` (a figure-level function with\n",
            "similar flexibility) or `histplot` (an axes-level function for histograms).\n",
            "\n",
            "For a guide to updating your code to use the new functions, please see\n",
            "https://gist.github.com/mwaskom/de44147ed2974457ad6372750bbe5751\n",
            "\n",
            "  func(*plot_args, **plot_kwargs)\n"
          ]
        },
        {
          "output_type": "display_data",
          "data": {
            "text/plain": [
              "<Figure size 370.611x300 with 1 Axes>"
            ],
            "image/png": "[encoded data removed]"
          },
          "metadata": {}
        }
      ]
    },
    {
      "metadata": {
        "_cell_guid": "b3a31c0e-40c8-491e-02fa-27fe5b34aa4e",
        "_active": false,
        "id": "Kr8edJdqjA12"
      },
      "cell_type": "markdown",
      "source": [
        "Reading Image Files"
      ]
    },
    {
      "metadata": {
        "_cell_guid": "903f9962-56d9-3ab1-ee2d-6f87005a3985",
        "_active": false,
        "trusted": true,
        "id": "E6nnFg--jA14",
        "outputId": "3f539bba-c5e3-4cc1-bfa1-0051a8757afa",
        "colab": {
          "base_uri": "https://localhost:8080/"
        }
      },
      "cell_type": "code",
      "source": [
        "BASE_IMG_PATH='/content/extracted/archive'\n",
        "all_images_list = glob(os.path.join(BASE_IMG_PATH,'tiff_images','*.tif'))\n",
        "all_images_list[:5]\n",
        "print(all_images_list)"
      ],
      "execution_count": null,
      "outputs": [
        {
          "output_type": "stream",
          "name": "stdout",
          "text": [
            "['/content/extracted/archive/tiff_images/ID_0019_AGE_0070_CONTRAST_1_CT.tif', '/content/extracted/archive/tiff_images/ID_0049_AGE_0061_CONTRAST_1_CT.tif', '/content/extracted/archive/tiff_images/ID_0032_AGE_0061_CONTRAST_1_CT.tif', '/content/extracted/archive/tiff_images/ID_0056_AGE_0083_CONTRAST_0_CT.tif', '/content/extracted/archive/tiff_images/ID_0047_AGE_0069_CONTRAST_1_CT.tif', '/content/extracted/archive/tiff_images/ID_0076_AGE_0068_CONTRAST_0_CT.tif', '/content/extracted/archive/tiff_images/ID_0062_AGE_0067_CONTRAST_0_CT.tif', '/content/extracted/archive/tiff_images/ID_0045_AGE_0074_CONTRAST_1_CT.tif', '/content/extracted/archive/tiff_images/ID_0013_AGE_0060_CONTRAST_1_CT.tif', '/content/extracted/archive/tiff_images/ID_0016_AGE_0063_CONTRAST_1_CT.tif', '/content/extracted/archive/tiff_images/ID_0070_AGE_0074_CONTRAST_0_CT.tif', '/content/extracted/archive/tiff_images/ID_0095_AGE_0071_CONTRAST_0_CT.tif', '/content/extracted/archive/tiff_images/ID_0006_AGE_0075_CONTRAST_1_CT.tif', '/content/extracted/archive/tiff_images/ID_0061_AGE_0074_CONTRAST_0_CT.tif', '/content/extracted/archive/tiff_images/ID_0082_AGE_0047_CONTRAST_0_CT.tif', '/content/extracted/archive/tiff_images/ID_0086_AGE_0073_CONTRAST_0_CT.tif', '/content/extracted/archive/tiff_images/ID_0067_AGE_0060_CONTRAST_0_CT.tif', '/content/extracted/archive/tiff_images/ID_0071_AGE_0065_CONTRAST_0_CT.tif', '/content/extracted/archive/tiff_images/ID_0012_AGE_0061_CONTRAST_1_CT.tif', '/content/extracted/archive/tiff_images/ID_0053_AGE_0073_CONTRAST_0_CT.tif', '/content/extracted/archive/tiff_images/ID_0040_AGE_0069_CONTRAST_1_CT.tif', '/content/extracted/archive/tiff_images/ID_0046_AGE_0072_CONTRAST_1_CT.tif', '/content/extracted/archive/tiff_images/ID_0066_AGE_0082_CONTRAST_0_CT.tif', '/content/extracted/archive/tiff_images/ID_0039_AGE_0074_CONTRAST_1_CT.tif', '/content/extracted/archive/tiff_images/ID_0020_AGE_0066_CONTRAST_1_CT.tif', '/content/extracted/archive/tiff_images/ID_0074_AGE_0074_CONTRAST_0_CT.tif', '/content/extracted/archive/tiff_images/ID_0035_AGE_0059_CONTRAST_1_CT.tif', '/content/extracted/archive/tiff_images/ID_0081_AGE_0058_CONTRAST_0_CT.tif', '/content/extracted/archive/tiff_images/ID_0036_AGE_0074_CONTRAST_1_CT.tif', '/content/extracted/archive/tiff_images/ID_0079_AGE_0071_CONTRAST_0_CT.tif', '/content/extracted/archive/tiff_images/ID_0098_AGE_0061_CONTRAST_0_CT.tif', '/content/extracted/archive/tiff_images/ID_0018_AGE_0074_CONTRAST_1_CT.tif', '/content/extracted/archive/tiff_images/ID_0022_AGE_0074_CONTRAST_1_CT.tif', '/content/extracted/archive/tiff_images/ID_0072_AGE_0060_CONTRAST_0_CT.tif', '/content/extracted/archive/tiff_images/ID_0030_AGE_0076_CONTRAST_1_CT.tif', '/content/extracted/archive/tiff_images/ID_0087_AGE_0044_CONTRAST_0_CT.tif', '/content/extracted/archive/tiff_images/ID_0034_AGE_0061_CONTRAST_1_CT.tif', '/content/extracted/archive/tiff_images/ID_0038_AGE_0071_CONTRAST_1_CT.tif', '/content/extracted/archive/tiff_images/ID_0031_AGE_0039_CONTRAST_1_CT.tif', '/content/extracted/archive/tiff_images/ID_0043_AGE_0069_CONTRAST_1_CT.tif', '/content/extracted/archive/tiff_images/ID_0077_AGE_0074_CONTRAST_0_CT.tif', '/content/extracted/archive/tiff_images/ID_0015_AGE_0061_CONTRAST_1_CT.tif', '/content/extracted/archive/tiff_images/ID_0002_AGE_0074_CONTRAST_1_CT.tif', '/content/extracted/archive/tiff_images/ID_0007_AGE_0061_CONTRAST_1_CT.tif', '/content/extracted/archive/tiff_images/ID_0075_AGE_0080_CONTRAST_0_CT.tif', '/content/extracted/archive/tiff_images/ID_0065_AGE_0082_CONTRAST_0_CT.tif', '/content/extracted/archive/tiff_images/ID_0069_AGE_0074_CONTRAST_0_CT.tif', '/content/extracted/archive/tiff_images/ID_0083_AGE_0082_CONTRAST_0_CT.tif', '/content/extracted/archive/tiff_images/ID_0080_AGE_0070_CONTRAST_0_CT.tif', '/content/extracted/archive/tiff_images/ID_0089_AGE_0071_CONTRAST_0_CT.tif', '/content/extracted/archive/tiff_images/ID_0004_AGE_0056_CONTRAST_1_CT.tif', '/content/extracted/archive/tiff_images/ID_0097_AGE_0060_CONTRAST_0_CT.tif', '/content/extracted/archive/tiff_images/ID_0005_AGE_0048_CONTRAST_1_CT.tif', '/content/extracted/archive/tiff_images/ID_0092_AGE_0072_CONTRAST_0_CT.tif', '/content/extracted/archive/tiff_images/ID_0001_AGE_0069_CONTRAST_1_CT.tif', '/content/extracted/archive/tiff_images/ID_0090_AGE_0067_CONTRAST_0_CT.tif', '/content/extracted/archive/tiff_images/ID_0000_AGE_0060_CONTRAST_1_CT.tif', '/content/extracted/archive/tiff_images/ID_0044_AGE_0072_CONTRAST_1_CT.tif', '/content/extracted/archive/tiff_images/ID_0060_AGE_0080_CONTRAST_0_CT.tif', '/content/extracted/archive/tiff_images/ID_0084_AGE_0067_CONTRAST_0_CT.tif', '/content/extracted/archive/tiff_images/ID_0085_AGE_0067_CONTRAST_0_CT.tif', '/content/extracted/archive/tiff_images/ID_0052_AGE_0072_CONTRAST_0_CT.tif', '/content/extracted/archive/tiff_images/ID_0023_AGE_0061_CONTRAST_1_CT.tif', '/content/extracted/archive/tiff_images/ID_0094_AGE_0052_CONTRAST_0_CT.tif', '/content/extracted/archive/tiff_images/ID_0051_AGE_0063_CONTRAST_0_CT.tif', '/content/extracted/archive/tiff_images/ID_0003_AGE_0075_CONTRAST_1_CT.tif', '/content/extracted/archive/tiff_images/ID_0064_AGE_0058_CONTRAST_0_CT.tif', '/content/extracted/archive/tiff_images/ID_0009_AGE_0048_CONTRAST_1_CT.tif', '/content/extracted/archive/tiff_images/ID_0008_AGE_0051_CONTRAST_1_CT.tif', '/content/extracted/archive/tiff_images/ID_0073_AGE_0074_CONTRAST_0_CT.tif', '/content/extracted/archive/tiff_images/ID_0059_AGE_0074_CONTRAST_0_CT.tif', '/content/extracted/archive/tiff_images/ID_0017_AGE_0060_CONTRAST_1_CT.tif', '/content/extracted/archive/tiff_images/ID_0014_AGE_0071_CONTRAST_1_CT.tif', '/content/extracted/archive/tiff_images/ID_0024_AGE_0060_CONTRAST_1_CT.tif', '/content/extracted/archive/tiff_images/ID_0033_AGE_0071_CONTRAST_1_CT.tif', '/content/extracted/archive/tiff_images/ID_0028_AGE_0074_CONTRAST_1_CT.tif', '/content/extracted/archive/tiff_images/ID_0042_AGE_0071_CONTRAST_1_CT.tif', '/content/extracted/archive/tiff_images/ID_0050_AGE_0074_CONTRAST_0_CT.tif', '/content/extracted/archive/tiff_images/ID_0068_AGE_0072_CONTRAST_0_CT.tif', '/content/extracted/archive/tiff_images/ID_0025_AGE_0074_CONTRAST_1_CT.tif', '/content/extracted/archive/tiff_images/ID_0099_AGE_0061_CONTRAST_0_CT.tif', '/content/extracted/archive/tiff_images/ID_0041_AGE_0045_CONTRAST_1_CT.tif', '/content/extracted/archive/tiff_images/ID_0078_AGE_0066_CONTRAST_0_CT.tif', '/content/extracted/archive/tiff_images/ID_0026_AGE_0070_CONTRAST_1_CT.tif', '/content/extracted/archive/tiff_images/ID_0058_AGE_0082_CONTRAST_0_CT.tif', '/content/extracted/archive/tiff_images/ID_0096_AGE_0083_CONTRAST_0_CT.tif', '/content/extracted/archive/tiff_images/ID_0029_AGE_0078_CONTRAST_1_CT.tif', '/content/extracted/archive/tiff_images/ID_0091_AGE_0072_CONTRAST_0_CT.tif', '/content/extracted/archive/tiff_images/ID_0093_AGE_0067_CONTRAST_0_CT.tif', '/content/extracted/archive/tiff_images/ID_0057_AGE_0049_CONTRAST_0_CT.tif', '/content/extracted/archive/tiff_images/ID_0054_AGE_0082_CONTRAST_0_CT.tif', '/content/extracted/archive/tiff_images/ID_0048_AGE_0077_CONTRAST_1_CT.tif', '/content/extracted/archive/tiff_images/ID_0063_AGE_0073_CONTRAST_0_CT.tif', '/content/extracted/archive/tiff_images/ID_0010_AGE_0060_CONTRAST_1_CT.tif', '/content/extracted/archive/tiff_images/ID_0027_AGE_0064_CONTRAST_1_CT.tif', '/content/extracted/archive/tiff_images/ID_0037_AGE_0074_CONTRAST_1_CT.tif', '/content/extracted/archive/tiff_images/ID_0055_AGE_0071_CONTRAST_0_CT.tif', '/content/extracted/archive/tiff_images/ID_0011_AGE_0061_CONTRAST_1_CT.tif', '/content/extracted/archive/tiff_images/ID_0021_AGE_0067_CONTRAST_1_CT.tif', '/content/extracted/archive/tiff_images/ID_0088_AGE_0067_CONTRAST_0_CT.tif']\n"
          ]
        }
      ]
    },
    {
      "metadata": {
        "_cell_guid": "bd300d12-44bf-77d5-ddb9-2b3da504dd2b",
        "_active": false,
        "id": "5j-5Jo-LjA15"
      },
      "cell_type": "markdown",
      "source": [
        " - np.expand_dims -> Expand the shape of an array.\n",
        "  - Insert a new axis, corresponding to a given position in the array shape."
      ]
    },
    {
      "metadata": {
        "_cell_guid": "0297e32f-e635-8e9f-20e4-120cea335001",
        "_active": false,
        "trusted": true,
        "id": "c8HzCHbajA15",
        "outputId": "9a2ad71f-39e9-4672-c6a4-adde0e34e7c3",
        "colab": {
          "base_uri": "https://localhost:8080/"
        }
      },
      "cell_type": "code",
      "source": [
        "imread(all_images_list[0]).shape"
      ],
      "execution_count": null,
      "outputs": [
        {
          "output_type": "execute_result",
          "data": {
            "text/plain": [
              "(512, 512)"
            ]
          },
          "metadata": {},
          "execution_count": 24
        }
      ]
    },
    {
      "metadata": {
        "_cell_guid": "54fb721a-19f5-1320-2c20-1da98b17ea6f",
        "_active": false,
        "trusted": true,
        "id": "AKKvCbqmjA16",
        "outputId": "a1b1711c-0450-4bb2-820f-1d773629af47",
        "colab": {
          "base_uri": "https://localhost:8080/"
        }
      },
      "cell_type": "code",
      "source": [
        "np.array(np.arange(81)).reshape(9,9)"
      ],
      "execution_count": null,
      "outputs": [
        {
          "output_type": "execute_result",
          "data": {
            "text/plain": [
              "array([[ 0,  1,  2,  3,  4,  5,  6,  7,  8],\n",
              "       [ 9, 10, 11, 12, 13, 14, 15, 16, 17],\n",
              "       [18, 19, 20, 21, 22, 23, 24, 25, 26],\n",
              "       [27, 28, 29, 30, 31, 32, 33, 34, 35],\n",
              "       [36, 37, 38, 39, 40, 41, 42, 43, 44],\n",
              "       [45, 46, 47, 48, 49, 50, 51, 52, 53],\n",
              "       [54, 55, 56, 57, 58, 59, 60, 61, 62],\n",
              "       [63, 64, 65, 66, 67, 68, 69, 70, 71],\n",
              "       [72, 73, 74, 75, 76, 77, 78, 79, 80]])"
            ]
          },
          "metadata": {},
          "execution_count": 25
        }
      ]
    },
    {
      "metadata": {
        "_cell_guid": "77250f23-8ab8-13a9-d972-7d6768c90e5e",
        "_active": false,
        "trusted": true,
        "id": "y3e0inhBjA17",
        "outputId": "ae8ef761-8f4d-4543-8a13-be9a1b8cac22",
        "colab": {
          "base_uri": "https://localhost:8080/"
        }
      },
      "cell_type": "code",
      "source": [
        "np.array(np.arange(81)).reshape(9,9)[::3,::3]"
      ],
      "execution_count": null,
      "outputs": [
        {
          "output_type": "execute_result",
          "data": {
            "text/plain": [
              "array([[ 0,  3,  6],\n",
              "       [27, 30, 33],\n",
              "       [54, 57, 60]])"
            ]
          },
          "metadata": {},
          "execution_count": 26
        }
      ]
    },
    {
      "metadata": {
        "_cell_guid": "66e16184-234e-6dde-7605-6e1d47e46a73",
        "_active": false,
        "trusted": true,
        "id": "V3QUgbuqjA18",
        "outputId": "ba097b14-23fa-47fd-e4ff-0fd3bac7c2b3",
        "colab": {
          "base_uri": "https://localhost:8080/"
        }
      },
      "cell_type": "code",
      "source": [
        "np.expand_dims(imread(all_images_list[0])[::4,::4],0).shape"
      ],
      "execution_count": null,
      "outputs": [
        {
          "output_type": "execute_result",
          "data": {
            "text/plain": [
              "(1, 128, 128)"
            ]
          },
          "metadata": {},
          "execution_count": 27
        }
      ]
    },
    {
      "metadata": {
        "_cell_guid": "a964bee8-7247-c4a2-aa70-9444ecf5b635",
        "_active": false,
        "trusted": true,
        "id": "aj1MxirJjA18"
      },
      "cell_type": "code",
      "source": [
        "jimread = lambda x: np.expand_dims(imread(x)[::2,::2],0)"
      ],
      "execution_count": null,
      "outputs": []
    },
    {
      "metadata": {
        "_cell_guid": "4237cc01-b395-c387-53f3-5a8c5b3bf284",
        "_active": false,
        "trusted": true,
        "id": "5Y4ytpr_jA18",
        "outputId": "b48d8c08-6fc5-46b5-a75a-ba2614a9ca85",
        "colab": {
          "base_uri": "https://localhost:8080/",
          "height": 452
        }
      },
      "cell_type": "code",
      "source": [
        "test_image = jimread(all_images_list[0])\n",
        "plt.imshow(test_image[0])"
      ],
      "execution_count": null,
      "outputs": [
        {
          "output_type": "execute_result",
          "data": {
            "text/plain": [
              "<matplotlib.image.AxesImage at 0x7f2a9d4e4c10>"
            ]
          },
          "metadata": {},
          "execution_count": 29
        },
        {
          "output_type": "display_data",
          "data": {
            "text/plain": [
              "<Figure size 640x480 with 1 Axes>"
            ],
            "image/png": "[encoded data removed]"
          },
          "metadata": {}
        }
      ]
    },
    {
      "metadata": {
        "_cell_guid": "18e5ebe3-61c8-b777-497c-90eef6605d8b",
        "_active": false,
        "trusted": true,
        "id": "JO5DnqJvjA19"
      },
      "cell_type": "code",
      "source": [
        "check_contrast = re.compile(r'ID_([\\d]+)_AGE_[\\d]+_CONTRAST_([\\d]+)_CT')\n",
        "label = []\n",
        "id_list = []\n",
        "for image in all_images_list:\n",
        "    id_list.append(check_contrast.findall(image)[0][0])\n",
        "    label.append(check_contrast.findall(image)[0][1])"
      ],
      "execution_count": null,
      "outputs": []
    },
    {
      "metadata": {
        "_cell_guid": "3313edaa-0603-f4a2-4f69-628dd811d2c1",
        "_active": false,
        "trusted": true,
        "id": "by0_I9B8jA19"
      },
      "cell_type": "code",
      "source": [
        "label_list = pd.DataFrame(label,id_list)"
      ],
      "execution_count": null,
      "outputs": []
    },
    {
      "metadata": {
        "_cell_guid": "94c034ea-83d3-093f-66d4-7f809ba5dc8b",
        "_active": false,
        "trusted": true,
        "id": "LKn7_F_3jA1-",
        "outputId": "5d4dd677-d2e9-41a6-e490-8695b88d9be9",
        "colab": {
          "base_uri": "https://localhost:8080/",
          "height": 206
        }
      },
      "cell_type": "code",
      "source": [
        "label_list.head()"
      ],
      "execution_count": null,
      "outputs": [
        {
          "output_type": "execute_result",
          "data": {
            "text/plain": [
              "      0\n",
              "0019  1\n",
              "0049  1\n",
              "0032  1\n",
              "0056  0\n",
              "0047  1"
            ],
            "text/html": [
              "\n",
              "  <div id=\"df-579b4f9f-692b-4a93-b350-dccb9f89c648\" class=\"colab-df-container\">\n",
              "    <div>\n",
              "<style scoped>\n",
              "    .dataframe tbody tr th:only-of-type {\n",
              "        vertical-align: middle;\n",
              "    }\n",
              "\n",
              "    .dataframe tbody tr th {\n",
              "        vertical-align: top;\n",
              "    }\n",
              "\n",
              "    .dataframe thead th {\n",
              "        text-align: right;\n",
              "    }\n",
              "</style>\n",
              "<table border=\"1\" class=\"dataframe\">\n",
              "  <thead>\n",
              "    <tr style=\"text-align: right;\">\n",
              "      <th></th>\n",
              "      <th>0</th>\n",
              "    </tr>\n",
              "  </thead>\n",
              "  <tbody>\n",
              "    <tr>\n",
              "      <th>0019</th>\n",
              "      <td>1</td>\n",
              "    </tr>\n",
              "    <tr>\n",
              "      <th>0049</th>\n",
              "      <td>1</td>\n",
              "    </tr>\n",
              "    <tr>\n",
              "      <th>0032</th>\n",
              "      <td>1</td>\n",
              "    </tr>\n",
              "    <tr>\n",
              "      <th>0056</th>\n",
              "      <td>0</td>\n",
              "    </tr>\n",
              "    <tr>\n",
              "      <th>0047</th>\n",
              "      <td>1</td>\n",
              "    </tr>\n",
              "  </tbody>\n",
              "</table>\n",
              "</div>\n",
              "    <div class=\"colab-df-buttons\">\n",
              "\n",
              "  <div class=\"colab-df-container\">\n",
              "    <button class=\"colab-df-convert\" onclick=\"convertToInteractive('df-579b4f9f-692b-4a93-b350-dccb9f89c648')\"\n",
              "            title=\"Convert this dataframe to an interactive table.\"\n",
              "            style=\"display:none;\">\n",
              "\n",
              "  <svg xmlns=\"http://www.w3.org/2000/svg\" height=\"24px\" viewBox=\"0 -960 960 960\">\n",
              "    <path d=\"M120-120v-720h720v720H120Zm60-500h600v-160H180v160Zm220 220h160v-160H400v160Zm0 220h160v-160H400v160ZM180-400h160v-160H180v160Zm440 0h160v-160H620v160ZM180-180h160v-160H180v160Zm440 0h160v-160H620v160Z\"/>\n",
              "  </svg>\n",
              "    </button>\n",
              "\n",
              "  <style>\n",
              "    .colab-df-container {\n",
              "      display:flex;\n",
              "      gap: 12px;\n",
              "    }\n",
              "\n",
              "    .colab-df-convert {\n",
              "      background-color: #E8F0FE;\n",
              "      border: none;\n",
              "      border-radius: 50%;\n",
              "      cursor: pointer;\n",
              "      display: none;\n",
              "      fill: #1967D2;\n",
              "      height: 32px;\n",
              "      padding: 0 0 0 0;\n",
              "      width: 32px;\n",
              "    }\n",
              "\n",
              "    .colab-df-convert:hover {\n",
              "      background-color: #E2EBFA;\n",
              "      box-shadow: 0px 1px 2px rgba(60, 64, 67, 0.3), 0px 1px 3px 1px rgba(60, 64, 67, 0.15);\n",
              "      fill: #174EA6;\n",
              "    }\n",
              "\n",
              "    .colab-df-buttons div {\n",
              "      margin-bottom: 4px;\n",
              "    }\n",
              "\n",
              "    [theme=dark] .colab-df-convert {\n",
              "      background-color: #3B4455;\n",
              "      fill: #D2E3FC;\n",
              "    }\n",
              "\n",
              "    [theme=dark] .colab-df-convert:hover {\n",
              "      background-color: #434B5C;\n",
              "      box-shadow: 0px 1px 3px 1px rgba(0, 0, 0, 0.15);\n",
              "      filter: drop-shadow(0px 1px 2px rgba(0, 0, 0, 0.3));\n",
              "      fill: #FFFFFF;\n",
              "    }\n",
              "  </style>\n",
              "\n",
              "    <script>\n",
              "      const buttonEl =\n",
              "        document.querySelector('#df-579b4f9f-692b-4a93-b350-dccb9f89c648 button.colab-df-convert');\n",
              "      buttonEl.style.display =\n",
              "        google.colab.kernel.accessAllowed ? 'block' : 'none';\n",
              "\n",
              "      async function convertToInteractive(key) {\n",
              "        const element = document.querySelector('#df-579b4f9f-692b-4a93-b350-dccb9f89c648');\n",
              "        const dataTable =\n",
              "          await google.colab.kernel.invokeFunction('convertToInteractive',\n",
              "                                                    [key], {});\n",
              "        if (!dataTable) return;\n",
              "\n",
              "        const docLinkHtml = 'Like what you see? Visit the ' +\n",
              "          '<a target=\"_blank\" href=https://colab.research.google.com/notebooks/data_table.ipynb>data table notebook</a>'\n",
              "          + ' to learn more about interactive tables.';\n",
              "        element.innerHTML = '';\n",
              "        dataTable['output_type'] = 'display_data';\n",
              "        await google.colab.output.renderOutput(dataTable, element);\n",
              "        const docLink = document.createElement('div');\n",
              "        docLink.innerHTML = docLinkHtml;\n",
              "        element.appendChild(docLink);\n",
              "      }\n",
              "    </script>\n",
              "  </div>\n",
              "\n",
              "\n",
              "<div id=\"df-4738052e-54e7-463c-82a1-85c21d675551\">\n",
              "  <button class=\"colab-df-quickchart\" onclick=\"quickchart('df-4738052e-54e7-463c-82a1-85c21d675551')\"\n",
              "            title=\"Suggest charts\"\n",
              "            style=\"display:none;\">\n",
              "\n",
              "<svg xmlns=\"http://www.w3.org/2000/svg\" height=\"24px\"viewBox=\"0 0 24 24\"\n",
              "     width=\"24px\">\n",
              "    <g>\n",
              "        <path d=\"M19 3H5c-1.1 0-2 .9-2 2v14c0 1.1.9 2 2 2h14c1.1 0 2-.9 2-2V5c0-1.1-.9-2-2-2zM9 17H7v-7h2v7zm4 0h-2V7h2v10zm4 0h-2v-4h2v4z\"/>\n",
              "    </g>\n",
              "</svg>\n",
              "  </button>\n",
              "\n",
              "<style>\n",
              "  .colab-df-quickchart {\n",
              "      --bg-color: #E8F0FE;\n",
              "      --fill-color: #1967D2;\n",
              "      --hover-bg-color: #E2EBFA;\n",
              "      --hover-fill-color: #174EA6;\n",
              "      --disabled-fill-color: #AAA;\n",
              "      --disabled-bg-color: #DDD;\n",
              "  }\n",
              "\n",
              "  [theme=dark] .colab-df-quickchart {\n",
              "      --bg-color: #3B4455;\n",
              "      --fill-color: #D2E3FC;\n",
              "      --hover-bg-color: #434B5C;\n",
              "      --hover-fill-color: #FFFFFF;\n",
              "      --disabled-bg-color: #3B4455;\n",
              "      --disabled-fill-color: #666;\n",
              "  }\n",
              "\n",
              "  .colab-df-quickchart {\n",
              "    background-color: var(--bg-color);\n",
              "    border: none;\n",
              "    border-radius: 50%;\n",
              "    cursor: pointer;\n",
              "    display: none;\n",
              "    fill: var(--fill-color);\n",
              "    height: 32px;\n",
              "    padding: 0;\n",
              "    width: 32px;\n",
              "  }\n",
              "\n",
              "  .colab-df-quickchart:hover {\n",
              "    background-color: var(--hover-bg-color);\n",
              "    box-shadow: 0 1px 2px rgba(60, 64, 67, 0.3), 0 1px 3px 1px rgba(60, 64, 67, 0.15);\n",
              "    fill: var(--button-hover-fill-color);\n",
              "  }\n",
              "\n",
              "  .colab-df-quickchart-complete:disabled,\n",
              "  .colab-df-quickchart-complete:disabled:hover {\n",
              "    background-color: var(--disabled-bg-color);\n",
              "    fill: var(--disabled-fill-color);\n",
              "    box-shadow: none;\n",
              "  }\n",
              "\n",
              "  .colab-df-spinner {\n",
              "    border: 2px solid var(--fill-color);\n",
              "    border-color: transparent;\n",
              "    border-bottom-color: var(--fill-color);\n",
              "    animation:\n",
              "      spin 1s steps(1) infinite;\n",
              "  }\n",
              "\n",
              "  @keyframes spin {\n",
              "    0% {\n",
              "      border-color: transparent;\n",
              "      border-bottom-color: var(--fill-color);\n",
              "      border-left-color: var(--fill-color);\n",
              "    }\n",
              "    20% {\n",
              "      border-color: transparent;\n",
              "      border-left-color: var(--fill-color);\n",
              "      border-top-color: var(--fill-color);\n",
              "    }\n",
              "    30% {\n",
              "      border-color: transparent;\n",
              "      border-left-color: var(--fill-color);\n",
              "      border-top-color: var(--fill-color);\n",
              "      border-right-color: var(--fill-color);\n",
              "    }\n",
              "    40% {\n",
              "      border-color: transparent;\n",
              "      border-right-color: var(--fill-color);\n",
              "      border-top-color: var(--fill-color);\n",
              "    }\n",
              "    60% {\n",
              "      border-color: transparent;\n",
              "      border-right-color: var(--fill-color);\n",
              "    }\n",
              "    80% {\n",
              "      border-color: transparent;\n",
              "      border-right-color: var(--fill-color);\n",
              "      border-bottom-color: var(--fill-color);\n",
              "    }\n",
              "    90% {\n",
              "      border-color: transparent;\n",
              "      border-bottom-color: var(--fill-color);\n",
              "    }\n",
              "  }\n",
              "</style>\n",
              "\n",
              "  <script>\n",
              "    async function quickchart(key) {\n",
              "      const quickchartButtonEl =\n",
              "        document.querySelector('#' + key + ' button');\n",
              "      quickchartButtonEl.disabled = true;  // To prevent multiple clicks.\n",
              "      quickchartButtonEl.classList.add('colab-df-spinner');\n",
              "      try {\n",
              "        const charts = await google.colab.kernel.invokeFunction(\n",
              "            'suggestCharts', [key], {});\n",
              "      } catch (error) {\n",
              "        console.error('Error during call to suggestCharts:', error);\n",
              "      }\n",
              "      quickchartButtonEl.classList.remove('colab-df-spinner');\n",
              "      quickchartButtonEl.classList.add('colab-df-quickchart-complete');\n",
              "    }\n",
              "    (() => {\n",
              "      let quickchartButtonEl =\n",
              "        document.querySelector('#df-4738052e-54e7-463c-82a1-85c21d675551 button');\n",
              "      quickchartButtonEl.style.display =\n",
              "        google.colab.kernel.accessAllowed ? 'block' : 'none';\n",
              "    })();\n",
              "  </script>\n",
              "</div>\n",
              "    </div>\n",
              "  </div>\n"
            ]
          },
          "metadata": {},
          "execution_count": 32
        }
      ]
    },
    {
      "metadata": {
        "_cell_guid": "140b1ba7-ed88-ac31-99e4-12737cad5951",
        "_active": false,
        "trusted": true,
        "id": "KEN6lA2BjA1-"
      },
      "cell_type": "code",
      "source": [
        "images = np.stack([jimread(i) for i in all_images_list],0)"
      ],
      "execution_count": null,
      "outputs": []
    },
    {
      "metadata": {
        "_cell_guid": "a2d7269a-2d5d-86d8-046a-2cde3f07eb00",
        "_active": false,
        "trusted": true,
        "id": "9jLDJSx2jA1_",
        "outputId": "1d25a691-5653-432b-e0d8-f6fb80cfa5c0",
        "colab": {
          "base_uri": "https://localhost:8080/"
        }
      },
      "cell_type": "code",
      "source": [
        "len(images)"
      ],
      "execution_count": null,
      "outputs": [
        {
          "output_type": "execute_result",
          "data": {
            "text/plain": [
              "100"
            ]
          },
          "metadata": {},
          "execution_count": 34
        }
      ]
    },
    {
      "metadata": {
        "_cell_guid": "60395bf3-ff90-d3a2-4166-19a733fb45a8",
        "_active": false,
        "id": "yT3NiI_PjA1_"
      },
      "cell_type": "markdown",
      "source": [
        "Spliting Dataset to Train, Test"
      ]
    },
    {
      "metadata": {
        "_cell_guid": "5c6c3654-33b3-64f6-2a0a-46e35a3e6639",
        "_active": false,
        "trusted": true,
        "id": "i7Sh4B9JjA1_"
      },
      "cell_type": "code",
      "source": [
        "from sklearn.model_selection import train_test_split"
      ],
      "execution_count": null,
      "outputs": []
    },
    {
      "metadata": {
        "_cell_guid": "94a971d3-dc62-a3bd-dcfc-3394c853e993",
        "_active": false,
        "trusted": true,
        "id": "quO7rrlCjA2A"
      },
      "cell_type": "code",
      "source": [
        "X_train, X_test, y_train, y_test = train_test_split(images, label_list, test_size=0.1, random_state=0)"
      ],
      "execution_count": null,
      "outputs": []
    },
    {
      "metadata": {
        "_cell_guid": "eccb92e8-516c-af36-4cb5-91638104f2e1",
        "_active": false,
        "trusted": true,
        "id": "qkOw-fmojA2A"
      },
      "cell_type": "code",
      "source": [
        "# reshaping the image\n",
        "n_train, depth, width, height = X_train.shape\n",
        "n_test,_,_,_ = X_test.shape"
      ],
      "execution_count": null,
      "outputs": []
    },
    {
      "metadata": {
        "_cell_guid": "1c3fa2c3-3503-4587-5927-9c59f1c2f6ca",
        "_active": false,
        "trusted": true,
        "id": "YdsQWpYxjA2A",
        "outputId": "d2f5e8d2-d687-4d17-f3ce-347c6690a6d8",
        "colab": {
          "base_uri": "https://localhost:8080/"
        }
      },
      "cell_type": "code",
      "source": [
        "n_train,depth, width, height"
      ],
      "execution_count": null,
      "outputs": [
        {
          "output_type": "execute_result",
          "data": {
            "text/plain": [
              "(90, 1, 256, 256)"
            ]
          },
          "metadata": {},
          "execution_count": 38
        }
      ]
    },
    {
      "metadata": {
        "_cell_guid": "057b51b4-a682-a552-1f1f-a0bc71d6826c",
        "_active": false,
        "trusted": true,
        "id": "R1Nt-vRSjA2B"
      },
      "cell_type": "code",
      "source": [
        "input_shape = (width,height,depth)"
      ],
      "execution_count": null,
      "outputs": []
    },
    {
      "metadata": {
        "_cell_guid": "883a4c62-9d71-b647-cc9f-e10ec6979577",
        "_active": false,
        "trusted": true,
        "id": "c0siWITljA2C",
        "outputId": "ee3d8d53-9f36-4f71-c57d-d7f0b83ed7ff",
        "colab": {
          "base_uri": "https://localhost:8080/"
        }
      },
      "cell_type": "code",
      "source": [
        "input_shape"
      ],
      "execution_count": null,
      "outputs": [
        {
          "output_type": "execute_result",
          "data": {
            "text/plain": [
              "(256, 256, 1)"
            ]
          },
          "metadata": {},
          "execution_count": 40
        }
      ]
    },
    {
      "metadata": {
        "_cell_guid": "cc85b31d-f01e-c7de-07f3-7b36326db826",
        "_active": false,
        "trusted": true,
        "id": "caHrrkgVjA2C",
        "outputId": "cc1df81d-fead-4f51-8b17-8acea269c022",
        "colab": {
          "base_uri": "https://localhost:8080/"
        }
      },
      "cell_type": "code",
      "source": [
        "# training data\n",
        "input_train = X_train.reshape((n_train, width,height,depth))\n",
        "input_train.shape\n",
        "input_train.astype('float32')\n",
        "input_train = input_train / np.max(input_train)\n",
        "input_train.max()"
      ],
      "execution_count": null,
      "outputs": [
        {
          "output_type": "execute_result",
          "data": {
            "text/plain": [
              "1.0"
            ]
          },
          "metadata": {},
          "execution_count": 41
        }
      ]
    },
    {
      "metadata": {
        "_cell_guid": "4e1ddca3-155e-719b-00aa-1c6f5d748e0e",
        "_active": false,
        "trusted": true,
        "id": "iq7ieD2AjA2C"
      },
      "cell_type": "code",
      "source": [
        "# testing data\n",
        "input_test = X_test.reshape(n_test, *input_shape)\n",
        "input_test.astype('float32')\n",
        "input_test = input_test / np.max(input_test)"
      ],
      "execution_count": null,
      "outputs": []
    },
    {
      "metadata": {
        "_cell_guid": "beb04ced-7fa4-9931-cacc-c06a108c6dde",
        "_active": false,
        "trusted": true,
        "id": "pdv7DwNjjA2D",
        "outputId": "aed2bfa1-7e1d-4446-ae0d-1059122205a3",
        "colab": {
          "base_uri": "https://localhost:8080/"
        }
      },
      "cell_type": "code",
      "source": [
        "output_train = keras.utils.to_categorical(y_train, 2)\n",
        "output_test = keras.utils.to_categorical(y_test, 2)\n",
        "output_train[5]"
      ],
      "execution_count": null,
      "outputs": [
        {
          "output_type": "execute_result",
          "data": {
            "text/plain": [
              "array([1., 0.], dtype=float32)"
            ]
          },
          "metadata": {},
          "execution_count": 43
        }
      ]
    },
    {
      "metadata": {
        "_cell_guid": "93771d31-451c-0111-37f7-825e9b4f402f",
        "_active": false,
        "trusted": true,
        "id": "q4aH0zHHjA2G",
        "outputId": "17cb3a87-072a-48ba-8a8f-8bdf595dc52d",
        "colab": {
          "base_uri": "https://localhost:8080/"
        }
      },
      "cell_type": "code",
      "source": [
        "input_train.shape"
      ],
      "execution_count": null,
      "outputs": [
        {
          "output_type": "execute_result",
          "data": {
            "text/plain": [
              "(90, 256, 256, 1)"
            ]
          },
          "metadata": {},
          "execution_count": 44
        }
      ]
    },
    {
      "metadata": {
        "_cell_guid": "3c48ada1-6f0a-8b8e-8aa5-067a00cd6f7d",
        "_active": false,
        "trusted": true,
        "id": "vw--abY5jA2O"
      },
      "cell_type": "code",
      "source": [
        "from keras.models import Sequential\n",
        "from keras.layers import Dense, Flatten\n",
        "from keras.optimizers import Adam\n",
        "from keras.layers import Conv2D, MaxPooling2D"
      ],
      "execution_count": null,
      "outputs": []
    },
    {
      "metadata": {
        "_cell_guid": "4c4b848f-af6a-8a86-ffd1-d84464b82d67",
        "_active": false,
        "trusted": true,
        "id": "1NXrfCI1jA2O"
      },
      "cell_type": "code",
      "source": [
        "batch_size = 20\n",
        "epochs = 40"
      ],
      "execution_count": null,
      "outputs": []
    },
    {
      "metadata": {
        "_cell_guid": "9d71c76b-5757-be9a-4cb8-c4309408f952",
        "_active": false,
        "id": "Rkxl3Yt0jA2P"
      },
      "cell_type": "markdown",
      "source": [
        "## Model"
      ]
    },
    {
      "metadata": {
        "_cell_guid": "2c3081d5-c966-0cca-65cd-a812fb9b78eb",
        "_active": false,
        "trusted": true,
        "id": "J4jN_pzLjA2P"
      },
      "cell_type": "code",
      "source": [
        "model2 = Sequential()\n",
        "model2.add(Conv2D(50, (5, 5), activation='relu', input_shape=input_shape))\n",
        "model2.add(MaxPooling2D(pool_size=(3, 3)))\n",
        "model2.add(Conv2D(30, (4, 4), activation='relu', input_shape=input_shape))\n",
        "model2.add(MaxPooling2D(pool_size=(2, 2)))\n",
        "model2.add(Flatten())\n",
        "model2.add(Dense(2, activation='softmax'))"
      ],
      "execution_count": null,
      "outputs": []
    },
    {
      "metadata": {
        "_cell_guid": "0a67a856-a6ff-9bf5-bddb-40a1eddd31d5",
        "_active": false,
        "trusted": true,
        "id": "riIfsalojA2Q",
        "outputId": "9f6f2f50-2418-482b-f16c-f3b9f3d05b26",
        "colab": {
          "base_uri": "https://localhost:8080/"
        }
      },
      "cell_type": "code",
      "source": [
        "model2.summary()"
      ],
      "execution_count": null,
      "outputs": [
        {
          "output_type": "stream",
          "name": "stdout",
          "text": [
            "Model: \"sequential\"\n",
            "_________________________________________________________________\n",
            " Layer (type)                Output Shape              Param #   \n",
            "=================================================================\n",
            " conv2d (Conv2D)             (None, 252, 252, 50)      1300      \n",
            "                                                                 \n",
            " max_pooling2d (MaxPooling2  (None, 84, 84, 50)        0         \n",
            " D)                                                              \n",
            "                                                                 \n",
            " conv2d_1 (Conv2D)           (None, 81, 81, 30)        24030     \n",
            "                                                                 \n",
            " max_pooling2d_1 (MaxPoolin  (None, 40, 40, 30)        0         \n",
            " g2D)                                                            \n",
            "                                                                 \n",
            " flatten (Flatten)           (None, 48000)             0         \n",
            "                                                                 \n",
            " dense (Dense)               (None, 2)                 96002     \n",
            "                                                                 \n",
            "=================================================================\n",
            "Total params: 121332 (473.95 KB)\n",
            "Trainable params: 121332 (473.95 KB)\n",
            "Non-trainable params: 0 (0.00 Byte)\n",
            "_________________________________________________________________\n"
          ]
        }
      ]
    },
    {
      "metadata": {
        "_cell_guid": "90a1467a-2441-504d-b86a-b27b6b9f3840",
        "_active": false,
        "trusted": true,
        "id": "S5FdKnWMjA2Q"
      },
      "cell_type": "code",
      "source": [
        "model2.compile(loss='categorical_crossentropy',\n",
        "              optimizer=Adam(),\n",
        "              metrics=['accuracy'])"
      ],
      "execution_count": null,
      "outputs": []
    },
    {
      "cell_type": "markdown",
      "source": [
        "Training the model"
      ],
      "metadata": {
        "id": "vVvCe-dIUNJ3"
      }
    },
    {
      "metadata": {
        "_cell_guid": "5ce12e74-c501-59e5-292c-5c1e4ef288a2",
        "_active": false,
        "trusted": true,
        "id": "Ogb5rZyijA2R",
        "outputId": "45fcd8f0-6d75-4432-9b64-4fe2811eebda",
        "colab": {
          "base_uri": "https://localhost:8080/"
        }
      },
      "cell_type": "code",
      "source": [
        "history = model2.fit(input_train, output_train,\n",
        "                    batch_size=batch_size,\n",
        "                    epochs=epochs,\n",
        "                    verbose=1,\n",
        "                    validation_data=(input_test, output_test))"
      ],
      "execution_count": null,
      "outputs": [
        {
          "output_type": "stream",
          "name": "stdout",
          "text": [
            "Epoch 1/40\n",
            "5/5 [==============================] - 15s 3s/step - loss: 0.7558 - accuracy: 0.6000 - val_loss: 0.6434 - val_accuracy: 0.6000\n",
            "Epoch 2/40\n",
            "5/5 [==============================] - 16s 4s/step - loss: 0.6957 - accuracy: 0.5778 - val_loss: 0.7342 - val_accuracy: 0.4000\n",
            "Epoch 3/40\n",
            "5/5 [==============================] - 9s 2s/step - loss: 0.6168 - accuracy: 0.6000 - val_loss: 0.6362 - val_accuracy: 0.7000\n",
            "Epoch 4/40\n",
            "5/5 [==============================] - 10s 2s/step - loss: 0.4793 - accuracy: 0.8444 - val_loss: 0.5365 - val_accuracy: 0.8000\n",
            "Epoch 5/40\n",
            "5/5 [==============================] - 10s 2s/step - loss: 0.3351 - accuracy: 0.8889 - val_loss: 0.3394 - val_accuracy: 0.9000\n",
            "Epoch 6/40\n",
            "5/5 [==============================] - 9s 2s/step - loss: 0.2021 - accuracy: 0.9222 - val_loss: 0.6208 - val_accuracy: 0.9000\n",
            "Epoch 7/40\n",
            "5/5 [==============================] - 9s 2s/step - loss: 0.1145 - accuracy: 0.9778 - val_loss: 0.5730 - val_accuracy: 0.9000\n",
            "Epoch 8/40\n",
            "5/5 [==============================] - 10s 2s/step - loss: 0.0629 - accuracy: 0.9778 - val_loss: 0.7922 - val_accuracy: 0.9000\n",
            "Epoch 9/40\n",
            "5/5 [==============================] - 9s 2s/step - loss: 0.0355 - accuracy: 0.9889 - val_loss: 0.7165 - val_accuracy: 0.9000\n",
            "Epoch 10/40\n",
            "5/5 [==============================] - 9s 2s/step - loss: 0.0323 - accuracy: 1.0000 - val_loss: 0.9547 - val_accuracy: 0.8000\n",
            "Epoch 11/40\n",
            "5/5 [==============================] - 11s 2s/step - loss: 0.0165 - accuracy: 1.0000 - val_loss: 0.3316 - val_accuracy: 0.9000\n",
            "Epoch 12/40\n",
            "5/5 [==============================] - 11s 2s/step - loss: 0.0142 - accuracy: 1.0000 - val_loss: 1.1592 - val_accuracy: 0.8000\n",
            "Epoch 13/40\n",
            "5/5 [==============================] - 8s 2s/step - loss: 0.0186 - accuracy: 1.0000 - val_loss: 1.0373 - val_accuracy: 0.9000\n",
            "Epoch 14/40\n",
            "5/5 [==============================] - 10s 2s/step - loss: 0.0026 - accuracy: 1.0000 - val_loss: 0.5541 - val_accuracy: 0.9000\n",
            "Epoch 15/40\n",
            "5/5 [==============================] - 10s 2s/step - loss: 0.0070 - accuracy: 1.0000 - val_loss: 0.7324 - val_accuracy: 0.9000\n",
            "Epoch 16/40\n",
            "5/5 [==============================] - 8s 2s/step - loss: 8.2514e-04 - accuracy: 1.0000 - val_loss: 1.1245 - val_accuracy: 0.9000\n",
            "Epoch 17/40\n",
            "5/5 [==============================] - 10s 2s/step - loss: 0.0015 - accuracy: 1.0000 - val_loss: 1.3476 - val_accuracy: 0.9000\n",
            "Epoch 18/40\n",
            "5/5 [==============================] - 9s 2s/step - loss: 0.0017 - accuracy: 1.0000 - val_loss: 1.2921 - val_accuracy: 0.9000\n",
            "Epoch 19/40\n",
            "5/5 [==============================] - 9s 2s/step - loss: 8.0673e-04 - accuracy: 1.0000 - val_loss: 1.1825 - val_accuracy: 0.9000\n",
            "Epoch 20/40\n",
            "5/5 [==============================] - 10s 2s/step - loss: 4.3323e-04 - accuracy: 1.0000 - val_loss: 1.0973 - val_accuracy: 0.9000\n",
            "Epoch 21/40\n",
            "5/5 [==============================] - 9s 2s/step - loss: 3.3618e-04 - accuracy: 1.0000 - val_loss: 1.0494 - val_accuracy: 0.9000\n",
            "Epoch 22/40\n",
            "5/5 [==============================] - 10s 2s/step - loss: 3.5753e-04 - accuracy: 1.0000 - val_loss: 1.0307 - val_accuracy: 0.9000\n",
            "Epoch 23/40\n",
            "5/5 [==============================] - 10s 2s/step - loss: 3.5466e-04 - accuracy: 1.0000 - val_loss: 1.0374 - val_accuracy: 0.9000\n",
            "Epoch 24/40\n",
            "5/5 [==============================] - 9s 2s/step - loss: 3.3177e-04 - accuracy: 1.0000 - val_loss: 1.0547 - val_accuracy: 0.9000\n",
            "Epoch 25/40\n",
            "5/5 [==============================] - 9s 2s/step - loss: 3.0297e-04 - accuracy: 1.0000 - val_loss: 1.0852 - val_accuracy: 0.9000\n",
            "Epoch 26/40\n",
            "5/5 [==============================] - 10s 2s/step - loss: 2.8074e-04 - accuracy: 1.0000 - val_loss: 1.1159 - val_accuracy: 0.9000\n",
            "Epoch 27/40\n",
            "5/5 [==============================] - 9s 2s/step - loss: 2.6592e-04 - accuracy: 1.0000 - val_loss: 1.1422 - val_accuracy: 0.9000\n",
            "Epoch 28/40\n",
            "5/5 [==============================] - 9s 2s/step - loss: 2.5677e-04 - accuracy: 1.0000 - val_loss: 1.1572 - val_accuracy: 0.9000\n",
            "Epoch 29/40\n",
            "5/5 [==============================] - 10s 2s/step - loss: 2.4830e-04 - accuracy: 1.0000 - val_loss: 1.1614 - val_accuracy: 0.9000\n",
            "Epoch 30/40\n",
            "5/5 [==============================] - 9s 2s/step - loss: 2.4154e-04 - accuracy: 1.0000 - val_loss: 1.1579 - val_accuracy: 0.9000\n",
            "Epoch 31/40\n",
            "5/5 [==============================] - 9s 2s/step - loss: 2.3227e-04 - accuracy: 1.0000 - val_loss: 1.1581 - val_accuracy: 0.9000\n",
            "Epoch 32/40\n",
            "5/5 [==============================] - 10s 2s/step - loss: 2.2553e-04 - accuracy: 1.0000 - val_loss: 1.1578 - val_accuracy: 0.9000\n",
            "Epoch 33/40\n",
            "5/5 [==============================] - 9s 2s/step - loss: 2.1823e-04 - accuracy: 1.0000 - val_loss: 1.1576 - val_accuracy: 0.9000\n",
            "Epoch 34/40\n",
            "5/5 [==============================] - 9s 2s/step - loss: 2.1259e-04 - accuracy: 1.0000 - val_loss: 1.1638 - val_accuracy: 0.9000\n",
            "Epoch 35/40\n",
            "5/5 [==============================] - 10s 2s/step - loss: 2.0627e-04 - accuracy: 1.0000 - val_loss: 1.1685 - val_accuracy: 0.9000\n",
            "Epoch 36/40\n",
            "5/5 [==============================] - 8s 2s/step - loss: 1.9952e-04 - accuracy: 1.0000 - val_loss: 1.1689 - val_accuracy: 0.9000\n",
            "Epoch 37/40\n",
            "5/5 [==============================] - 10s 2s/step - loss: 1.9384e-04 - accuracy: 1.0000 - val_loss: 1.1687 - val_accuracy: 0.9000\n",
            "Epoch 38/40\n",
            "5/5 [==============================] - 10s 2s/step - loss: 1.9008e-04 - accuracy: 1.0000 - val_loss: 1.1680 - val_accuracy: 0.9000\n",
            "Epoch 39/40\n",
            "5/5 [==============================] - 8s 2s/step - loss: 1.8464e-04 - accuracy: 1.0000 - val_loss: 1.1753 - val_accuracy: 0.9000\n",
            "Epoch 40/40\n",
            "5/5 [==============================] - 10s 2s/step - loss: 1.7911e-04 - accuracy: 1.0000 - val_loss: 1.1790 - val_accuracy: 0.9000\n"
          ]
        }
      ]
    },
    {
      "cell_type": "markdown",
      "source": [
        "Prediction"
      ],
      "metadata": {
        "id": "1JLbpSdfUR4G"
      }
    },
    {
      "metadata": {
        "_cell_guid": "d686fe4f-9233-b836-1159-d92ca1cd6a2c",
        "_active": false,
        "trusted": true,
        "id": "_pC_OWwRjA2R",
        "outputId": "9f34c72a-c1f4-4049-fd2f-76e9be02271c",
        "colab": {
          "base_uri": "https://localhost:8080/"
        }
      },
      "cell_type": "code",
      "source": [
        "score = model2.evaluate(input_test, output_test, verbose=0)\n",
        "score"
      ],
      "execution_count": null,
      "outputs": [
        {
          "output_type": "execute_result",
          "data": {
            "text/plain": [
              "[1.1789953708648682, 0.8999999761581421]"
            ]
          },
          "metadata": {},
          "execution_count": 56
        }
      ]
    },
    {
      "metadata": {
        "_cell_guid": "43c23078-a27f-71cc-767c-c89d8d7c550f",
        "_active": false,
        "trusted": true,
        "id": "Mi-xR7G_jA2S",
        "outputId": "4ba11b48-2fb6-4647-9fda-d73deeafa14f",
        "colab": {
          "base_uri": "https://localhost:8080/"
        }
      },
      "cell_type": "code",
      "source": [
        "model2.predict(input_test)"
      ],
      "execution_count": null,
      "outputs": [
        {
          "output_type": "stream",
          "name": "stdout",
          "text": [
            "1/1 [==============================] - 0s 350ms/step\n"
          ]
        },
        {
          "output_type": "execute_result",
          "data": {
            "text/plain": [
              "array([[1.1062919e-05, 9.9998885e-01],\n",
              "       [1.9547906e-06, 9.9999803e-01],\n",
              "       [1.1517607e-05, 9.9998838e-01],\n",
              "       [6.8747509e-01, 3.1252494e-01],\n",
              "       [2.2539217e-11, 9.9999994e-01],\n",
              "       [9.9935895e-01, 6.4101303e-04],\n",
              "       [5.0627702e-04, 9.9949366e-01],\n",
              "       [9.9787217e-01, 2.1277952e-03],\n",
              "       [9.9997950e-01, 2.0526650e-05],\n",
              "       [9.9999964e-01, 3.7840800e-07]], dtype=float32)"
            ]
          },
          "metadata": {},
          "execution_count": 57
        }
      ]
    },
    {
      "cell_type": "code",
      "source": [
        "# saving the model\n",
        "model2.save('/content/ct_model.h5')"
      ],
      "metadata": {
        "colab": {
          "base_uri": "https://localhost:8080/"
        },
        "id": "7IFjBeMDE-vY",
        "outputId": "df25aabb-f698-42ba-ca7b-62cdf14aaff3"
      },
      "execution_count": null,
      "outputs": [
        {
          "output_type": "stream",
          "name": "stderr",
          "text": [
            "/usr/local/lib/python3.10/dist-packages/keras/src/engine/training.py:3103: UserWarning: You are saving your model as an HDF5 file via `model.save()`. This file format is considered legacy. We recommend using instead the native Keras format, e.g. `model.save('my_model.keras')`.\n",
            "  saving_api.save_model(\n"
          ]
        }
      ]
    },
    {
      "cell_type": "code",
      "source": [
        "# Loading saved model\n",
        "import tensorflow as tf\n",
        "from tensorflow import keras\n",
        "model = tf.keras.models.load_model('/content/ct_model.h5')"
      ],
      "metadata": {
        "id": "P6AqOL_LG6iA"
      },
      "execution_count": null,
      "outputs": []
    },
    {
      "cell_type": "markdown",
      "source": [
        "Model parameters"
      ],
      "metadata": {
        "id": "KYJ3gjnRUZwX"
      }
    },
    {
      "cell_type": "code",
      "source": [
        "all_weights = []\n",
        "for layer in model3.layers:\n",
        "    if hasattr(layer, 'get_weights'):\n",
        "        weights = layer.get_weights()\n",
        "        all_weights.append(weights)\n",
        "\n",
        "for i, weights in enumerate(all_weights):\n",
        "    print(f\"Layer {i + 1} - {model3.layers[i].name}\")\n",
        "    for j, w in enumerate(weights):\n",
        "        print(f\"   Weights {j + 1}: {w.shape}\")"
      ],
      "metadata": {
        "colab": {
          "base_uri": "https://localhost:8080/"
        },
        "id": "ZSdfjaJpNM6D",
        "outputId": "49168673-8179-423f-c68f-1c88fee65eb1"
      },
      "execution_count": null,
      "outputs": [
        {
          "output_type": "stream",
          "name": "stdout",
          "text": [
            "Layer 1 - conv2d\n",
            "   Weights 1: (5, 5, 1, 50)\n",
            "   Weights 2: (50,)\n",
            "Layer 2 - max_pooling2d\n",
            "Layer 3 - conv2d_1\n",
            "   Weights 1: (4, 4, 50, 30)\n",
            "   Weights 2: (30,)\n",
            "Layer 4 - max_pooling2d_1\n",
            "Layer 5 - flatten\n",
            "Layer 6 - dense\n",
            "   Weights 1: (48000, 2)\n",
            "   Weights 2: (2,)\n"
          ]
        }
      ]
    },
    {
      "cell_type": "markdown",
      "source": [
        "Extracting weights, biases from each layer"
      ],
      "metadata": {
        "id": "tDHLVlc8Ucg5"
      }
    },
    {
      "cell_type": "code",
      "source": [
        "conv1_weights, conv1_biases = model3.layers[0].get_weights()\n",
        "conv2_weights, conv2_biases = model3.layers[2].get_weights()\n",
        "dense1_weights, dense1_biases = model3.layers[5].get_weights()"
      ],
      "metadata": {
        "id": "1QRZ5KI1Nm9r"
      },
      "execution_count": null,
      "outputs": []
    },
    {
      "cell_type": "code",
      "source": [
        "# Flattening\n",
        "conv1_weights_flattened_list = conv1_weights.flatten().tolist()\n",
        "conv2_weights_flattened_list = conv2_weights.flatten().tolist()\n",
        "dense1_weights_flattened_list = dense1_weights.flatten().tolist()\n",
        "\n",
        "# Converting biases to lists\n",
        "conv1_biases_list = conv1_biases.tolist()\n",
        "conv2_biases_list = conv2_biases.tolist()\n",
        "dense1_biases_list = dense1_biases.tolist()"
      ],
      "metadata": {
        "id": "LU5OzjC68h5o"
      },
      "execution_count": null,
      "outputs": []
    },
    {
      "cell_type": "markdown",
      "source": [
        "Quantization"
      ],
      "metadata": {
        "id": "sMGUY27hUmrR"
      }
    },
    {
      "cell_type": "code",
      "source": [
        "import torch\n",
        "\n",
        "def absmax_quantize_list(weights_list):\n",
        "    X = torch.tensor(weights_list, dtype=torch.float32)\n",
        "    scale = 127 / torch.max(torch.abs(X))\n",
        "\n",
        "    # Quantize\n",
        "    X_quant = (scale * X).round()\n",
        "\n",
        "    # Dequantize\n",
        "    X_dequant = X_quant / scale\n",
        "\n",
        "    quantized_list = X_quant.to(torch.int8).tolist()\n",
        "    return quantized_list, X_dequant.tolist()"
      ],
      "metadata": {
        "id": "9YXMApD_9NNv"
      },
      "execution_count": null,
      "outputs": []
    },
    {
      "cell_type": "code",
      "source": [
        "new_conv_weights = []\n",
        "for j in range(0, 50):\n",
        "  for i in range(0, 1250, 50):\n",
        "    new_conv_weights.append(conv1_weights_flattened_list[j+i])"
      ],
      "metadata": {
        "id": "IPDQSw199soi"
      },
      "execution_count": null,
      "outputs": []
    },
    {
      "cell_type": "code",
      "source": [
        "len(new_conv_weights)"
      ],
      "metadata": {
        "colab": {
          "base_uri": "https://localhost:8080/"
        },
        "id": "tAKYH_vE-kIP",
        "outputId": "eac53c70-8296-4674-ab85-5d6412bab9c1"
      },
      "execution_count": null,
      "outputs": [
        {
          "output_type": "execute_result",
          "data": {
            "text/plain": [
              "24000"
            ]
          },
          "metadata": {},
          "execution_count": 17
        }
      ]
    },
    {
      "cell_type": "code",
      "source": [
        "# flattening the image\n",
        "new_conv_weights = []\n",
        "for num_fil in range(0,30):\n",
        "  for dep in range(0,50):\n",
        "    for row in range(0,4):\n",
        "      for col in range(0,4):\n",
        "        new_conv_weights.append(conv2_weights[row][col][dep][num_fil])"
      ],
      "metadata": {
        "id": "zeIke_Zr90zX"
      },
      "execution_count": null,
      "outputs": []
    },
    {
      "cell_type": "code",
      "source": [
        "weights_list = new_conv_weights\n",
        "print(len(weights_list))\n",
        "\n",
        "quantized_weights, dequantized_weights = absmax_quantize_list(weights_list)\n",
        "\n",
        "print(\"\\nAbsmax quantized weights:\")\n",
        "print(len(quantized_weights))\n",
        "\n",
        "with open('quantized_conv2_weights.txt', 'w') as f:\n",
        "  f.write(str(quantized_weights))"
      ],
      "metadata": {
        "colab": {
          "base_uri": "https://localhost:8080/"
        },
        "id": "KBPP7I-q9Qgl",
        "outputId": "d11b14cf-7020-4985-d8cc-0fd60b366ec5"
      },
      "execution_count": null,
      "outputs": [
        {
          "output_type": "stream",
          "name": "stdout",
          "text": [
            "24000\n",
            "\n",
            "Absmax quantized weights:\n",
            "24000\n"
          ]
        }
      ]
    },
    {
      "cell_type": "code",
      "source": [
        "def flatten(image, h, w, d):\n",
        "  flattenedImage = []\n",
        "  for k in range(0, d):\n",
        "    for i in range(0, h):\n",
        "      for j in range(0, w):\n",
        "        flattenedImage.append(image[i][j])\n",
        "  return flattenedImage"
      ],
      "metadata": {
        "id": "ugZmpdCww8RY"
      },
      "execution_count": null,
      "outputs": []
    },
    {
      "cell_type": "markdown",
      "source": [
        "Taking some samples"
      ],
      "metadata": {
        "id": "s0ETe8UZ2eMZ"
      }
    },
    {
      "cell_type": "code",
      "source": [
        "test_images = []\n",
        "true_labels = []\n",
        "tdata = []\n",
        "\n",
        "for idx in range(0, 10):\n",
        "    tdata.append(input_test[idx])\n",
        "    reshaped_image = input_test[idx]\n",
        "    x = (flatten(reshaped_image, 256, 256, 1))\n",
        "    test_images.append(np.concatenate(x).flatten().tolist())\n",
        "    # print(flatten(reshaped_image, 256, 256, 1))\n",
        "    # print(test_images[0])\n",
        "    # print(np.argmax(np.array(output_test[idx])))\n",
        "    # break\n",
        "    true_labels.append(np.argmax(np.array(output_test[idx])))\n",
        "\n",
        "flattened_test_images = [item for sublist in test_images for item in sublist]"
      ],
      "metadata": {
        "id": "Y_fVvod3zYa_"
      },
      "execution_count": null,
      "outputs": []
    },
    {
      "cell_type": "code",
      "source": [
        "print(input_test[0])"
      ],
      "metadata": {
        "id": "RF7QjJHL7f9G"
      },
      "execution_count": null,
      "outputs": []
    },
    {
      "cell_type": "code",
      "source": [
        "# with open('test_images.txt', 'w') as f:\n",
        "#   f.write(str(flattened_test_images))\n",
        "with open('true_labels.txt', 'w') as f:\n",
        "  f.write(str(true_labels))"
      ],
      "metadata": {
        "id": "m6XLpBEMzaCj"
      },
      "execution_count": null,
      "outputs": []
    },
    {
      "cell_type": "markdown",
      "source": [
        "Accuracy"
      ],
      "metadata": {
        "id": "3daRUHvJ2by1"
      }
    },
    {
      "cell_type": "code",
      "source": [
        "test_loss, test_accuracy = model.evaluate(input_test,output_test)\n",
        "print(f'Accuracy: {test_accuracy * 100:.2f}%')"
      ],
      "metadata": {
        "id": "XYUeo3lWzcA4",
        "colab": {
          "base_uri": "https://localhost:8080/"
        },
        "outputId": "58e4baf5-f039-4609-ad62-543ea76f1a94"
      },
      "execution_count": null,
      "outputs": [
        {
          "output_type": "stream",
          "name": "stdout",
          "text": [
            "1/1 [==============================] - 1s 1s/step - loss: 1.5443e-04 - accuracy: 1.0000\n",
            "Accuracy: 100.00%\n"
          ]
        }
      ]
    },
    {
      "cell_type": "markdown",
      "source": [
        "Time"
      ],
      "metadata": {
        "id": "ckG7Xpuk2c7M"
      }
    },
    {
      "cell_type": "code",
      "source": [
        "import time\n",
        "import numpy as np\n",
        "\n",
        "start_time = time.time()\n",
        "predictions = model.predict(input_test)\n",
        "end_time = time.time()\n",
        "inference_time = []\n",
        "inference_time.append(end_time - start_time)\n",
        "print(f\"Inference time: {inference_time[0]} seconds\")"
      ],
      "metadata": {
        "id": "fnWyUlpRzeQZ",
        "colab": {
          "base_uri": "https://localhost:8080/"
        },
        "outputId": "8a6f823e-9ea9-422e-d489-f02e3213615e"
      },
      "execution_count": null,
      "outputs": [
        {
          "output_type": "stream",
          "name": "stdout",
          "text": [
            "1/1 [==============================] - 1s 697ms/step\n",
            "Inference time: 0.7747437953948975 seconds\n"
          ]
        }
      ]
    }
  ],
  "metadata": {
    "kernelspec": {
      "name": "python3",
      "display_name": "Python 3",
      "language": "python"
    },
    "language_info": {
      "name": "python",
      "version": "3.7.6",
      "mimetype": "text/x-python",
      "codemirror_mode": {
        "name": "ipython",
        "version": 3
      },
      "pygments_lexer": "ipython3",
      "nbconvert_exporter": "python",
      "file_extension": ".py"
    },
    "colab": {
      "provenance": []
    }
  },
  "nbformat": 4,
  "nbformat_minor": 0
}